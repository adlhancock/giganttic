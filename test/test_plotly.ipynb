{
 "cells": [
  {
   "cell_type": "markdown",
   "id": "0f9473e5-098d-4b10-8465-a613a3d0001c",
   "metadata": {},
   "source": [
    "# testing plotly version of giganttic"
   ]
  },
  {
   "cell_type": "code",
   "execution_count": 3,
   "id": "7d744085-6d60-4bda-96d3-582bf6e8aa95",
   "metadata": {
    "tags": []
   },
   "outputs": [
    {
     "name": "stdout",
     "output_type": "stream",
     "text": [
      "data has no yvalues, autogenerating\n"
     ]
    },
    {
     "data": {
      "application/vnd.plotly.v1+json": {
       "config": {
        "plotlyServerURL": "https://plot.ly"
       },
       "data": [
        {
         "marker": {
          "color": "#482173",
          "size": 8,
          "symbol": "diamond"
         },
         "mode": "markers+text",
         "text": [
          ""
         ],
         "textposition": "bottom center",
         "type": "scatter",
         "x": [
          "2024-05-01T00:00:00"
         ],
         "y": [
          2
         ]
        },
        {
         "marker": {
          "color": "#472f7d",
          "size": 8,
          "symbol": "diamond"
         },
         "mode": "markers+text",
         "text": [
          ""
         ],
         "textposition": "bottom center",
         "type": "scatter",
         "x": [
          "2026-04-01T00:00:00"
         ],
         "y": [
          3
         ]
        },
        {
         "marker": {
          "color": "#433e85",
          "size": 8,
          "symbol": "diamond"
         },
         "mode": "markers+text",
         "text": [
          ""
         ],
         "textposition": "bottom center",
         "type": "scatter",
         "x": [
          "2027-04-01T00:00:00"
         ],
         "y": [
          4
         ]
        },
        {
         "marker": {
          "color": "#3e4c8a",
          "size": 8,
          "symbol": "diamond"
         },
         "mode": "markers+text",
         "text": [
          ""
         ],
         "textposition": "bottom center",
         "type": "scatter",
         "x": [
          "2028-04-01T00:00:00"
         ],
         "y": [
          5
         ]
        },
        {
         "marker": {
          "color": "#32648e",
          "size": 8,
          "symbol": "diamond"
         },
         "mode": "markers+text",
         "text": [
          ""
         ],
         "textposition": "bottom center",
         "type": "scatter",
         "x": [
          "2025-04-01T00:00:00"
         ],
         "y": [
          7
         ]
        },
        {
         "marker": {
          "color": "#2d708e",
          "size": 8,
          "symbol": "diamond"
         },
         "mode": "markers+text",
         "text": [
          ""
         ],
         "textposition": "bottom center",
         "type": "scatter",
         "x": [
          "2026-04-01T00:00:00"
         ],
         "y": [
          8
         ]
        },
        {
         "marker": {
          "color": "#297a8e",
          "size": 8,
          "symbol": "diamond"
         },
         "mode": "markers+text",
         "text": [
          ""
         ],
         "textposition": "bottom center",
         "type": "scatter",
         "x": [
          "2027-04-01T00:00:00"
         ],
         "y": [
          9
         ]
        },
        {
         "marker": {
          "color": "#25858e",
          "size": 8,
          "symbol": "diamond"
         },
         "mode": "markers+text",
         "text": [
          ""
         ],
         "textposition": "bottom center",
         "type": "scatter",
         "x": [
          "2028-12-12T00:00:00"
         ],
         "y": [
          10
         ]
        },
        {
         "marker": {
          "color": "#21a685",
          "size": 8,
          "symbol": "diamond"
         },
         "mode": "markers+text",
         "text": [
          ""
         ],
         "textposition": "bottom center",
         "type": "scatter",
         "x": [
          "2023-05-01T00:00:00"
         ],
         "y": [
          13
         ]
        },
        {
         "marker": {
          "color": "#2ab07f",
          "size": 8,
          "symbol": "diamond"
         },
         "mode": "markers+text",
         "text": [
          ""
         ],
         "textposition": "bottom center",
         "type": "scatter",
         "x": [
          "2024-04-01T00:00:00"
         ],
         "y": [
          14
         ]
        },
        {
         "marker": {
          "color": "#3bbb75",
          "size": 8,
          "symbol": "diamond"
         },
         "mode": "markers+text",
         "text": [
          ""
         ],
         "textposition": "bottom center",
         "type": "scatter",
         "x": [
          "2025-04-01T00:00:00"
         ],
         "y": [
          15
         ]
        },
        {
         "marker": {
          "color": "#52c569",
          "size": 8,
          "symbol": "diamond"
         },
         "mode": "markers+text",
         "text": [
          ""
         ],
         "textposition": "bottom center",
         "type": "scatter",
         "x": [
          "2026-04-01T00:00:00"
         ],
         "y": [
          16
         ]
        },
        {
         "marker": {
          "color": "#86d549",
          "size": 8,
          "symbol": "diamond"
         },
         "mode": "markers+text",
         "text": [
          ""
         ],
         "textposition": "bottom center",
         "type": "scatter",
         "x": [
          "2026-04-01T00:00:00"
         ],
         "y": [
          18
         ]
        },
        {
         "marker": {
          "color": "#a5db36",
          "size": 8,
          "symbol": "diamond"
         },
         "mode": "markers+text",
         "text": [
          ""
         ],
         "textposition": "bottom center",
         "type": "scatter",
         "x": [
          "2027-04-01T00:00:00"
         ],
         "y": [
          19
         ]
        },
        {
         "marker": {
          "color": "#c2df23",
          "size": 8,
          "symbol": "diamond"
         },
         "mode": "markers+text",
         "text": [
          ""
         ],
         "textposition": "bottom center",
         "type": "scatter",
         "x": [
          "2027-12-01T00:00:00"
         ],
         "y": [
          20
         ]
        },
        {
         "marker": {
          "color": "#e2e418",
          "size": 8,
          "symbol": "diamond"
         },
         "mode": "markers+text",
         "text": [
          ""
         ],
         "textposition": "bottom center",
         "type": "scatter",
         "x": [
          "2028-04-01T00:00:00"
         ],
         "y": [
          21
         ]
        }
       ],
       "layout": {
        "plot_bgcolor": "#ffffff",
        "shapes": [
         {
          "fillcolor": "#440154",
          "line": {
           "width": 0
          },
          "type": "rect",
          "x0": "2024-05-01T00:00:00",
          "x1": "2028-12-12T00:00:00",
          "y0": -0.3,
          "y1": 0.3
         },
         {
          "fillcolor": "#471164",
          "line": {
           "width": 0
          },
          "type": "rect",
          "x0": "2024-05-01T00:00:00",
          "x1": "2028-04-01T00:00:00",
          "y0": 0.7,
          "y1": 1.3
         },
         {
          "fillcolor": "#38588c",
          "line": {
           "width": 0
          },
          "type": "rect",
          "x0": "2025-04-01T00:00:00",
          "x1": "2028-12-12T00:00:00",
          "y0": 5.7,
          "y1": 6.3
         },
         {
          "fillcolor": "#21918c",
          "line": {
           "width": 0
          },
          "type": "rect",
          "x0": "2023-05-01T00:00:00",
          "x1": "2028-04-01T00:00:00",
          "y0": 10.7,
          "y1": 11.3
         },
         {
          "fillcolor": "#1e9b8a",
          "line": {
           "width": 0
          },
          "type": "rect",
          "x0": "2023-05-01T00:00:00",
          "x1": "2026-04-01T00:00:00",
          "y0": 11.7,
          "y1": 12.3
         },
         {
          "fillcolor": "#69cd5b",
          "line": {
           "width": 0
          },
          "type": "rect",
          "x0": "2026-04-01T00:00:00",
          "x1": "2028-04-01T00:00:00",
          "y0": 16.7,
          "y1": 17.3
         }
        ],
        "showlegend": false,
        "template": {
         "data": {
          "bar": [
           {
            "error_x": {
             "color": "#2a3f5f"
            },
            "error_y": {
             "color": "#2a3f5f"
            },
            "marker": {
             "line": {
              "color": "#E5ECF6",
              "width": 0.5
             },
             "pattern": {
              "fillmode": "overlay",
              "size": 10,
              "solidity": 0.2
             }
            },
            "type": "bar"
           }
          ],
          "barpolar": [
           {
            "marker": {
             "line": {
              "color": "#E5ECF6",
              "width": 0.5
             },
             "pattern": {
              "fillmode": "overlay",
              "size": 10,
              "solidity": 0.2
             }
            },
            "type": "barpolar"
           }
          ],
          "carpet": [
           {
            "aaxis": {
             "endlinecolor": "#2a3f5f",
             "gridcolor": "white",
             "linecolor": "white",
             "minorgridcolor": "white",
             "startlinecolor": "#2a3f5f"
            },
            "baxis": {
             "endlinecolor": "#2a3f5f",
             "gridcolor": "white",
             "linecolor": "white",
             "minorgridcolor": "white",
             "startlinecolor": "#2a3f5f"
            },
            "type": "carpet"
           }
          ],
          "choropleth": [
           {
            "colorbar": {
             "outlinewidth": 0,
             "ticks": ""
            },
            "type": "choropleth"
           }
          ],
          "contour": [
           {
            "colorbar": {
             "outlinewidth": 0,
             "ticks": ""
            },
            "colorscale": [
             [
              0,
              "#0d0887"
             ],
             [
              0.1111111111111111,
              "#46039f"
             ],
             [
              0.2222222222222222,
              "#7201a8"
             ],
             [
              0.3333333333333333,
              "#9c179e"
             ],
             [
              0.4444444444444444,
              "#bd3786"
             ],
             [
              0.5555555555555556,
              "#d8576b"
             ],
             [
              0.6666666666666666,
              "#ed7953"
             ],
             [
              0.7777777777777778,
              "#fb9f3a"
             ],
             [
              0.8888888888888888,
              "#fdca26"
             ],
             [
              1,
              "#f0f921"
             ]
            ],
            "type": "contour"
           }
          ],
          "contourcarpet": [
           {
            "colorbar": {
             "outlinewidth": 0,
             "ticks": ""
            },
            "type": "contourcarpet"
           }
          ],
          "heatmap": [
           {
            "colorbar": {
             "outlinewidth": 0,
             "ticks": ""
            },
            "colorscale": [
             [
              0,
              "#0d0887"
             ],
             [
              0.1111111111111111,
              "#46039f"
             ],
             [
              0.2222222222222222,
              "#7201a8"
             ],
             [
              0.3333333333333333,
              "#9c179e"
             ],
             [
              0.4444444444444444,
              "#bd3786"
             ],
             [
              0.5555555555555556,
              "#d8576b"
             ],
             [
              0.6666666666666666,
              "#ed7953"
             ],
             [
              0.7777777777777778,
              "#fb9f3a"
             ],
             [
              0.8888888888888888,
              "#fdca26"
             ],
             [
              1,
              "#f0f921"
             ]
            ],
            "type": "heatmap"
           }
          ],
          "heatmapgl": [
           {
            "colorbar": {
             "outlinewidth": 0,
             "ticks": ""
            },
            "colorscale": [
             [
              0,
              "#0d0887"
             ],
             [
              0.1111111111111111,
              "#46039f"
             ],
             [
              0.2222222222222222,
              "#7201a8"
             ],
             [
              0.3333333333333333,
              "#9c179e"
             ],
             [
              0.4444444444444444,
              "#bd3786"
             ],
             [
              0.5555555555555556,
              "#d8576b"
             ],
             [
              0.6666666666666666,
              "#ed7953"
             ],
             [
              0.7777777777777778,
              "#fb9f3a"
             ],
             [
              0.8888888888888888,
              "#fdca26"
             ],
             [
              1,
              "#f0f921"
             ]
            ],
            "type": "heatmapgl"
           }
          ],
          "histogram": [
           {
            "marker": {
             "pattern": {
              "fillmode": "overlay",
              "size": 10,
              "solidity": 0.2
             }
            },
            "type": "histogram"
           }
          ],
          "histogram2d": [
           {
            "colorbar": {
             "outlinewidth": 0,
             "ticks": ""
            },
            "colorscale": [
             [
              0,
              "#0d0887"
             ],
             [
              0.1111111111111111,
              "#46039f"
             ],
             [
              0.2222222222222222,
              "#7201a8"
             ],
             [
              0.3333333333333333,
              "#9c179e"
             ],
             [
              0.4444444444444444,
              "#bd3786"
             ],
             [
              0.5555555555555556,
              "#d8576b"
             ],
             [
              0.6666666666666666,
              "#ed7953"
             ],
             [
              0.7777777777777778,
              "#fb9f3a"
             ],
             [
              0.8888888888888888,
              "#fdca26"
             ],
             [
              1,
              "#f0f921"
             ]
            ],
            "type": "histogram2d"
           }
          ],
          "histogram2dcontour": [
           {
            "colorbar": {
             "outlinewidth": 0,
             "ticks": ""
            },
            "colorscale": [
             [
              0,
              "#0d0887"
             ],
             [
              0.1111111111111111,
              "#46039f"
             ],
             [
              0.2222222222222222,
              "#7201a8"
             ],
             [
              0.3333333333333333,
              "#9c179e"
             ],
             [
              0.4444444444444444,
              "#bd3786"
             ],
             [
              0.5555555555555556,
              "#d8576b"
             ],
             [
              0.6666666666666666,
              "#ed7953"
             ],
             [
              0.7777777777777778,
              "#fb9f3a"
             ],
             [
              0.8888888888888888,
              "#fdca26"
             ],
             [
              1,
              "#f0f921"
             ]
            ],
            "type": "histogram2dcontour"
           }
          ],
          "mesh3d": [
           {
            "colorbar": {
             "outlinewidth": 0,
             "ticks": ""
            },
            "type": "mesh3d"
           }
          ],
          "parcoords": [
           {
            "line": {
             "colorbar": {
              "outlinewidth": 0,
              "ticks": ""
             }
            },
            "type": "parcoords"
           }
          ],
          "pie": [
           {
            "automargin": true,
            "type": "pie"
           }
          ],
          "scatter": [
           {
            "fillpattern": {
             "fillmode": "overlay",
             "size": 10,
             "solidity": 0.2
            },
            "type": "scatter"
           }
          ],
          "scatter3d": [
           {
            "line": {
             "colorbar": {
              "outlinewidth": 0,
              "ticks": ""
             }
            },
            "marker": {
             "colorbar": {
              "outlinewidth": 0,
              "ticks": ""
             }
            },
            "type": "scatter3d"
           }
          ],
          "scattercarpet": [
           {
            "marker": {
             "colorbar": {
              "outlinewidth": 0,
              "ticks": ""
             }
            },
            "type": "scattercarpet"
           }
          ],
          "scattergeo": [
           {
            "marker": {
             "colorbar": {
              "outlinewidth": 0,
              "ticks": ""
             }
            },
            "type": "scattergeo"
           }
          ],
          "scattergl": [
           {
            "marker": {
             "colorbar": {
              "outlinewidth": 0,
              "ticks": ""
             }
            },
            "type": "scattergl"
           }
          ],
          "scattermapbox": [
           {
            "marker": {
             "colorbar": {
              "outlinewidth": 0,
              "ticks": ""
             }
            },
            "type": "scattermapbox"
           }
          ],
          "scatterpolar": [
           {
            "marker": {
             "colorbar": {
              "outlinewidth": 0,
              "ticks": ""
             }
            },
            "type": "scatterpolar"
           }
          ],
          "scatterpolargl": [
           {
            "marker": {
             "colorbar": {
              "outlinewidth": 0,
              "ticks": ""
             }
            },
            "type": "scatterpolargl"
           }
          ],
          "scatterternary": [
           {
            "marker": {
             "colorbar": {
              "outlinewidth": 0,
              "ticks": ""
             }
            },
            "type": "scatterternary"
           }
          ],
          "surface": [
           {
            "colorbar": {
             "outlinewidth": 0,
             "ticks": ""
            },
            "colorscale": [
             [
              0,
              "#0d0887"
             ],
             [
              0.1111111111111111,
              "#46039f"
             ],
             [
              0.2222222222222222,
              "#7201a8"
             ],
             [
              0.3333333333333333,
              "#9c179e"
             ],
             [
              0.4444444444444444,
              "#bd3786"
             ],
             [
              0.5555555555555556,
              "#d8576b"
             ],
             [
              0.6666666666666666,
              "#ed7953"
             ],
             [
              0.7777777777777778,
              "#fb9f3a"
             ],
             [
              0.8888888888888888,
              "#fdca26"
             ],
             [
              1,
              "#f0f921"
             ]
            ],
            "type": "surface"
           }
          ],
          "table": [
           {
            "cells": {
             "fill": {
              "color": "#EBF0F8"
             },
             "line": {
              "color": "white"
             }
            },
            "header": {
             "fill": {
              "color": "#C8D4E3"
             },
             "line": {
              "color": "white"
             }
            },
            "type": "table"
           }
          ]
         },
         "layout": {
          "annotationdefaults": {
           "arrowcolor": "#2a3f5f",
           "arrowhead": 0,
           "arrowwidth": 1
          },
          "autotypenumbers": "strict",
          "coloraxis": {
           "colorbar": {
            "outlinewidth": 0,
            "ticks": ""
           }
          },
          "colorscale": {
           "diverging": [
            [
             0,
             "#8e0152"
            ],
            [
             0.1,
             "#c51b7d"
            ],
            [
             0.2,
             "#de77ae"
            ],
            [
             0.3,
             "#f1b6da"
            ],
            [
             0.4,
             "#fde0ef"
            ],
            [
             0.5,
             "#f7f7f7"
            ],
            [
             0.6,
             "#e6f5d0"
            ],
            [
             0.7,
             "#b8e186"
            ],
            [
             0.8,
             "#7fbc41"
            ],
            [
             0.9,
             "#4d9221"
            ],
            [
             1,
             "#276419"
            ]
           ],
           "sequential": [
            [
             0,
             "#0d0887"
            ],
            [
             0.1111111111111111,
             "#46039f"
            ],
            [
             0.2222222222222222,
             "#7201a8"
            ],
            [
             0.3333333333333333,
             "#9c179e"
            ],
            [
             0.4444444444444444,
             "#bd3786"
            ],
            [
             0.5555555555555556,
             "#d8576b"
            ],
            [
             0.6666666666666666,
             "#ed7953"
            ],
            [
             0.7777777777777778,
             "#fb9f3a"
            ],
            [
             0.8888888888888888,
             "#fdca26"
            ],
            [
             1,
             "#f0f921"
            ]
           ],
           "sequentialminus": [
            [
             0,
             "#0d0887"
            ],
            [
             0.1111111111111111,
             "#46039f"
            ],
            [
             0.2222222222222222,
             "#7201a8"
            ],
            [
             0.3333333333333333,
             "#9c179e"
            ],
            [
             0.4444444444444444,
             "#bd3786"
            ],
            [
             0.5555555555555556,
             "#d8576b"
            ],
            [
             0.6666666666666666,
             "#ed7953"
            ],
            [
             0.7777777777777778,
             "#fb9f3a"
            ],
            [
             0.8888888888888888,
             "#fdca26"
            ],
            [
             1,
             "#f0f921"
            ]
           ]
          },
          "colorway": [
           "#636efa",
           "#EF553B",
           "#00cc96",
           "#ab63fa",
           "#FFA15A",
           "#19d3f3",
           "#FF6692",
           "#B6E880",
           "#FF97FF",
           "#FECB52"
          ],
          "font": {
           "color": "#2a3f5f"
          },
          "geo": {
           "bgcolor": "white",
           "lakecolor": "white",
           "landcolor": "#E5ECF6",
           "showlakes": true,
           "showland": true,
           "subunitcolor": "white"
          },
          "hoverlabel": {
           "align": "left"
          },
          "hovermode": "closest",
          "mapbox": {
           "style": "light"
          },
          "paper_bgcolor": "white",
          "plot_bgcolor": "#E5ECF6",
          "polar": {
           "angularaxis": {
            "gridcolor": "white",
            "linecolor": "white",
            "ticks": ""
           },
           "bgcolor": "#E5ECF6",
           "radialaxis": {
            "gridcolor": "white",
            "linecolor": "white",
            "ticks": ""
           }
          },
          "scene": {
           "xaxis": {
            "backgroundcolor": "#E5ECF6",
            "gridcolor": "white",
            "gridwidth": 2,
            "linecolor": "white",
            "showbackground": true,
            "ticks": "",
            "zerolinecolor": "white"
           },
           "yaxis": {
            "backgroundcolor": "#E5ECF6",
            "gridcolor": "white",
            "gridwidth": 2,
            "linecolor": "white",
            "showbackground": true,
            "ticks": "",
            "zerolinecolor": "white"
           },
           "zaxis": {
            "backgroundcolor": "#E5ECF6",
            "gridcolor": "white",
            "gridwidth": 2,
            "linecolor": "white",
            "showbackground": true,
            "ticks": "",
            "zerolinecolor": "white"
           }
          },
          "shapedefaults": {
           "line": {
            "color": "#2a3f5f"
           }
          },
          "ternary": {
           "aaxis": {
            "gridcolor": "white",
            "linecolor": "white",
            "ticks": ""
           },
           "baxis": {
            "gridcolor": "white",
            "linecolor": "white",
            "ticks": ""
           },
           "bgcolor": "#E5ECF6",
           "caxis": {
            "gridcolor": "white",
            "linecolor": "white",
            "ticks": ""
           }
          },
          "title": {
           "x": 0.05
          },
          "xaxis": {
           "automargin": true,
           "gridcolor": "white",
           "linecolor": "white",
           "ticks": "",
           "title": {
            "standoff": 15
           },
           "zerolinecolor": "white",
           "zerolinewidth": 2
          },
          "yaxis": {
           "automargin": true,
           "gridcolor": "white",
           "linecolor": "white",
           "ticks": "",
           "title": {
            "standoff": 15
           },
           "zerolinecolor": "white",
           "zerolinewidth": 2
          }
         }
        },
        "title": {
         "text": "Plotly Gantt Chart"
        },
        "xaxis": {
         "gridcolor": "#cccccc",
         "range": [
          "2023-05-01T00:00:00",
          "2028-12-12T00:00:00"
         ],
         "type": "date"
        },
        "yaxis": {
         "gridcolor": "#cccccc",
         "range": [
          22,
          -1
         ],
         "tickfont": {
          "size": 8
         },
         "ticktext": [
          "One Work Breakdown Area Testing",
          "A test programme",
          "A test programme (T0)",
          "A test programme (T1)",
          "A test programme (T3)",
          "A test programme (T4)",
          "B test programme",
          "B test programme (T0)",
          "B test programme (T1)",
          "B test programme (T3)",
          "B test programme (T4)",
          "Another Work Breakdown Area Testing",
          "C test programme",
          "C test programme (T0)",
          "C test programme (T1)",
          "C test programme (T3)",
          "C test programme (T4)",
          "D test programme",
          "D test programme (T0)",
          "D test programme (T1)",
          "D test programme (T3)",
          "D test programme (T4)"
         ],
         "tickvals": [
          0,
          1,
          2,
          3,
          4,
          5,
          6,
          7,
          8,
          9,
          10,
          11,
          12,
          13,
          14,
          15,
          16,
          17,
          18,
          19,
          20,
          21
         ]
        }
       }
      },
      "text/html": [
       "<div>                            <div id=\"e617ddd9-a614-43b6-9e51-7fe38fe69c2b\" class=\"plotly-graph-div\" style=\"height:525px; width:100%;\"></div>            <script type=\"text/javascript\">                require([\"plotly\"], function(Plotly) {                    window.PLOTLYENV=window.PLOTLYENV || {};                                    if (document.getElementById(\"e617ddd9-a614-43b6-9e51-7fe38fe69c2b\")) {                    Plotly.newPlot(                        \"e617ddd9-a614-43b6-9e51-7fe38fe69c2b\",                        [{\"marker\":{\"color\":\"#482173\",\"size\":8,\"symbol\":\"diamond\"},\"mode\":\"markers+text\",\"text\":[\"\"],\"textposition\":\"bottom center\",\"x\":[\"2024-05-01T00:00:00\"],\"y\":[2],\"type\":\"scatter\"},{\"marker\":{\"color\":\"#472f7d\",\"size\":8,\"symbol\":\"diamond\"},\"mode\":\"markers+text\",\"text\":[\"\"],\"textposition\":\"bottom center\",\"x\":[\"2026-04-01T00:00:00\"],\"y\":[3],\"type\":\"scatter\"},{\"marker\":{\"color\":\"#433e85\",\"size\":8,\"symbol\":\"diamond\"},\"mode\":\"markers+text\",\"text\":[\"\"],\"textposition\":\"bottom center\",\"x\":[\"2027-04-01T00:00:00\"],\"y\":[4],\"type\":\"scatter\"},{\"marker\":{\"color\":\"#3e4c8a\",\"size\":8,\"symbol\":\"diamond\"},\"mode\":\"markers+text\",\"text\":[\"\"],\"textposition\":\"bottom center\",\"x\":[\"2028-04-01T00:00:00\"],\"y\":[5],\"type\":\"scatter\"},{\"marker\":{\"color\":\"#32648e\",\"size\":8,\"symbol\":\"diamond\"},\"mode\":\"markers+text\",\"text\":[\"\"],\"textposition\":\"bottom center\",\"x\":[\"2025-04-01T00:00:00\"],\"y\":[7],\"type\":\"scatter\"},{\"marker\":{\"color\":\"#2d708e\",\"size\":8,\"symbol\":\"diamond\"},\"mode\":\"markers+text\",\"text\":[\"\"],\"textposition\":\"bottom center\",\"x\":[\"2026-04-01T00:00:00\"],\"y\":[8],\"type\":\"scatter\"},{\"marker\":{\"color\":\"#297a8e\",\"size\":8,\"symbol\":\"diamond\"},\"mode\":\"markers+text\",\"text\":[\"\"],\"textposition\":\"bottom center\",\"x\":[\"2027-04-01T00:00:00\"],\"y\":[9],\"type\":\"scatter\"},{\"marker\":{\"color\":\"#25858e\",\"size\":8,\"symbol\":\"diamond\"},\"mode\":\"markers+text\",\"text\":[\"\"],\"textposition\":\"bottom center\",\"x\":[\"2028-12-12T00:00:00\"],\"y\":[10],\"type\":\"scatter\"},{\"marker\":{\"color\":\"#21a685\",\"size\":8,\"symbol\":\"diamond\"},\"mode\":\"markers+text\",\"text\":[\"\"],\"textposition\":\"bottom center\",\"x\":[\"2023-05-01T00:00:00\"],\"y\":[13],\"type\":\"scatter\"},{\"marker\":{\"color\":\"#2ab07f\",\"size\":8,\"symbol\":\"diamond\"},\"mode\":\"markers+text\",\"text\":[\"\"],\"textposition\":\"bottom center\",\"x\":[\"2024-04-01T00:00:00\"],\"y\":[14],\"type\":\"scatter\"},{\"marker\":{\"color\":\"#3bbb75\",\"size\":8,\"symbol\":\"diamond\"},\"mode\":\"markers+text\",\"text\":[\"\"],\"textposition\":\"bottom center\",\"x\":[\"2025-04-01T00:00:00\"],\"y\":[15],\"type\":\"scatter\"},{\"marker\":{\"color\":\"#52c569\",\"size\":8,\"symbol\":\"diamond\"},\"mode\":\"markers+text\",\"text\":[\"\"],\"textposition\":\"bottom center\",\"x\":[\"2026-04-01T00:00:00\"],\"y\":[16],\"type\":\"scatter\"},{\"marker\":{\"color\":\"#86d549\",\"size\":8,\"symbol\":\"diamond\"},\"mode\":\"markers+text\",\"text\":[\"\"],\"textposition\":\"bottom center\",\"x\":[\"2026-04-01T00:00:00\"],\"y\":[18],\"type\":\"scatter\"},{\"marker\":{\"color\":\"#a5db36\",\"size\":8,\"symbol\":\"diamond\"},\"mode\":\"markers+text\",\"text\":[\"\"],\"textposition\":\"bottom center\",\"x\":[\"2027-04-01T00:00:00\"],\"y\":[19],\"type\":\"scatter\"},{\"marker\":{\"color\":\"#c2df23\",\"size\":8,\"symbol\":\"diamond\"},\"mode\":\"markers+text\",\"text\":[\"\"],\"textposition\":\"bottom center\",\"x\":[\"2027-12-01T00:00:00\"],\"y\":[20],\"type\":\"scatter\"},{\"marker\":{\"color\":\"#e2e418\",\"size\":8,\"symbol\":\"diamond\"},\"mode\":\"markers+text\",\"text\":[\"\"],\"textposition\":\"bottom center\",\"x\":[\"2028-04-01T00:00:00\"],\"y\":[21],\"type\":\"scatter\"}],                        {\"template\":{\"data\":{\"histogram2dcontour\":[{\"type\":\"histogram2dcontour\",\"colorbar\":{\"outlinewidth\":0,\"ticks\":\"\"},\"colorscale\":[[0.0,\"#0d0887\"],[0.1111111111111111,\"#46039f\"],[0.2222222222222222,\"#7201a8\"],[0.3333333333333333,\"#9c179e\"],[0.4444444444444444,\"#bd3786\"],[0.5555555555555556,\"#d8576b\"],[0.6666666666666666,\"#ed7953\"],[0.7777777777777778,\"#fb9f3a\"],[0.8888888888888888,\"#fdca26\"],[1.0,\"#f0f921\"]]}],\"choropleth\":[{\"type\":\"choropleth\",\"colorbar\":{\"outlinewidth\":0,\"ticks\":\"\"}}],\"histogram2d\":[{\"type\":\"histogram2d\",\"colorbar\":{\"outlinewidth\":0,\"ticks\":\"\"},\"colorscale\":[[0.0,\"#0d0887\"],[0.1111111111111111,\"#46039f\"],[0.2222222222222222,\"#7201a8\"],[0.3333333333333333,\"#9c179e\"],[0.4444444444444444,\"#bd3786\"],[0.5555555555555556,\"#d8576b\"],[0.6666666666666666,\"#ed7953\"],[0.7777777777777778,\"#fb9f3a\"],[0.8888888888888888,\"#fdca26\"],[1.0,\"#f0f921\"]]}],\"heatmap\":[{\"type\":\"heatmap\",\"colorbar\":{\"outlinewidth\":0,\"ticks\":\"\"},\"colorscale\":[[0.0,\"#0d0887\"],[0.1111111111111111,\"#46039f\"],[0.2222222222222222,\"#7201a8\"],[0.3333333333333333,\"#9c179e\"],[0.4444444444444444,\"#bd3786\"],[0.5555555555555556,\"#d8576b\"],[0.6666666666666666,\"#ed7953\"],[0.7777777777777778,\"#fb9f3a\"],[0.8888888888888888,\"#fdca26\"],[1.0,\"#f0f921\"]]}],\"heatmapgl\":[{\"type\":\"heatmapgl\",\"colorbar\":{\"outlinewidth\":0,\"ticks\":\"\"},\"colorscale\":[[0.0,\"#0d0887\"],[0.1111111111111111,\"#46039f\"],[0.2222222222222222,\"#7201a8\"],[0.3333333333333333,\"#9c179e\"],[0.4444444444444444,\"#bd3786\"],[0.5555555555555556,\"#d8576b\"],[0.6666666666666666,\"#ed7953\"],[0.7777777777777778,\"#fb9f3a\"],[0.8888888888888888,\"#fdca26\"],[1.0,\"#f0f921\"]]}],\"contourcarpet\":[{\"type\":\"contourcarpet\",\"colorbar\":{\"outlinewidth\":0,\"ticks\":\"\"}}],\"contour\":[{\"type\":\"contour\",\"colorbar\":{\"outlinewidth\":0,\"ticks\":\"\"},\"colorscale\":[[0.0,\"#0d0887\"],[0.1111111111111111,\"#46039f\"],[0.2222222222222222,\"#7201a8\"],[0.3333333333333333,\"#9c179e\"],[0.4444444444444444,\"#bd3786\"],[0.5555555555555556,\"#d8576b\"],[0.6666666666666666,\"#ed7953\"],[0.7777777777777778,\"#fb9f3a\"],[0.8888888888888888,\"#fdca26\"],[1.0,\"#f0f921\"]]}],\"surface\":[{\"type\":\"surface\",\"colorbar\":{\"outlinewidth\":0,\"ticks\":\"\"},\"colorscale\":[[0.0,\"#0d0887\"],[0.1111111111111111,\"#46039f\"],[0.2222222222222222,\"#7201a8\"],[0.3333333333333333,\"#9c179e\"],[0.4444444444444444,\"#bd3786\"],[0.5555555555555556,\"#d8576b\"],[0.6666666666666666,\"#ed7953\"],[0.7777777777777778,\"#fb9f3a\"],[0.8888888888888888,\"#fdca26\"],[1.0,\"#f0f921\"]]}],\"mesh3d\":[{\"type\":\"mesh3d\",\"colorbar\":{\"outlinewidth\":0,\"ticks\":\"\"}}],\"scatter\":[{\"fillpattern\":{\"fillmode\":\"overlay\",\"size\":10,\"solidity\":0.2},\"type\":\"scatter\"}],\"parcoords\":[{\"type\":\"parcoords\",\"line\":{\"colorbar\":{\"outlinewidth\":0,\"ticks\":\"\"}}}],\"scatterpolargl\":[{\"type\":\"scatterpolargl\",\"marker\":{\"colorbar\":{\"outlinewidth\":0,\"ticks\":\"\"}}}],\"bar\":[{\"error_x\":{\"color\":\"#2a3f5f\"},\"error_y\":{\"color\":\"#2a3f5f\"},\"marker\":{\"line\":{\"color\":\"#E5ECF6\",\"width\":0.5},\"pattern\":{\"fillmode\":\"overlay\",\"size\":10,\"solidity\":0.2}},\"type\":\"bar\"}],\"scattergeo\":[{\"type\":\"scattergeo\",\"marker\":{\"colorbar\":{\"outlinewidth\":0,\"ticks\":\"\"}}}],\"scatterpolar\":[{\"type\":\"scatterpolar\",\"marker\":{\"colorbar\":{\"outlinewidth\":0,\"ticks\":\"\"}}}],\"histogram\":[{\"marker\":{\"pattern\":{\"fillmode\":\"overlay\",\"size\":10,\"solidity\":0.2}},\"type\":\"histogram\"}],\"scattergl\":[{\"type\":\"scattergl\",\"marker\":{\"colorbar\":{\"outlinewidth\":0,\"ticks\":\"\"}}}],\"scatter3d\":[{\"type\":\"scatter3d\",\"line\":{\"colorbar\":{\"outlinewidth\":0,\"ticks\":\"\"}},\"marker\":{\"colorbar\":{\"outlinewidth\":0,\"ticks\":\"\"}}}],\"scattermapbox\":[{\"type\":\"scattermapbox\",\"marker\":{\"colorbar\":{\"outlinewidth\":0,\"ticks\":\"\"}}}],\"scatterternary\":[{\"type\":\"scatterternary\",\"marker\":{\"colorbar\":{\"outlinewidth\":0,\"ticks\":\"\"}}}],\"scattercarpet\":[{\"type\":\"scattercarpet\",\"marker\":{\"colorbar\":{\"outlinewidth\":0,\"ticks\":\"\"}}}],\"carpet\":[{\"aaxis\":{\"endlinecolor\":\"#2a3f5f\",\"gridcolor\":\"white\",\"linecolor\":\"white\",\"minorgridcolor\":\"white\",\"startlinecolor\":\"#2a3f5f\"},\"baxis\":{\"endlinecolor\":\"#2a3f5f\",\"gridcolor\":\"white\",\"linecolor\":\"white\",\"minorgridcolor\":\"white\",\"startlinecolor\":\"#2a3f5f\"},\"type\":\"carpet\"}],\"table\":[{\"cells\":{\"fill\":{\"color\":\"#EBF0F8\"},\"line\":{\"color\":\"white\"}},\"header\":{\"fill\":{\"color\":\"#C8D4E3\"},\"line\":{\"color\":\"white\"}},\"type\":\"table\"}],\"barpolar\":[{\"marker\":{\"line\":{\"color\":\"#E5ECF6\",\"width\":0.5},\"pattern\":{\"fillmode\":\"overlay\",\"size\":10,\"solidity\":0.2}},\"type\":\"barpolar\"}],\"pie\":[{\"automargin\":true,\"type\":\"pie\"}]},\"layout\":{\"autotypenumbers\":\"strict\",\"colorway\":[\"#636efa\",\"#EF553B\",\"#00cc96\",\"#ab63fa\",\"#FFA15A\",\"#19d3f3\",\"#FF6692\",\"#B6E880\",\"#FF97FF\",\"#FECB52\"],\"font\":{\"color\":\"#2a3f5f\"},\"hovermode\":\"closest\",\"hoverlabel\":{\"align\":\"left\"},\"paper_bgcolor\":\"white\",\"plot_bgcolor\":\"#E5ECF6\",\"polar\":{\"bgcolor\":\"#E5ECF6\",\"angularaxis\":{\"gridcolor\":\"white\",\"linecolor\":\"white\",\"ticks\":\"\"},\"radialaxis\":{\"gridcolor\":\"white\",\"linecolor\":\"white\",\"ticks\":\"\"}},\"ternary\":{\"bgcolor\":\"#E5ECF6\",\"aaxis\":{\"gridcolor\":\"white\",\"linecolor\":\"white\",\"ticks\":\"\"},\"baxis\":{\"gridcolor\":\"white\",\"linecolor\":\"white\",\"ticks\":\"\"},\"caxis\":{\"gridcolor\":\"white\",\"linecolor\":\"white\",\"ticks\":\"\"}},\"coloraxis\":{\"colorbar\":{\"outlinewidth\":0,\"ticks\":\"\"}},\"colorscale\":{\"sequential\":[[0.0,\"#0d0887\"],[0.1111111111111111,\"#46039f\"],[0.2222222222222222,\"#7201a8\"],[0.3333333333333333,\"#9c179e\"],[0.4444444444444444,\"#bd3786\"],[0.5555555555555556,\"#d8576b\"],[0.6666666666666666,\"#ed7953\"],[0.7777777777777778,\"#fb9f3a\"],[0.8888888888888888,\"#fdca26\"],[1.0,\"#f0f921\"]],\"sequentialminus\":[[0.0,\"#0d0887\"],[0.1111111111111111,\"#46039f\"],[0.2222222222222222,\"#7201a8\"],[0.3333333333333333,\"#9c179e\"],[0.4444444444444444,\"#bd3786\"],[0.5555555555555556,\"#d8576b\"],[0.6666666666666666,\"#ed7953\"],[0.7777777777777778,\"#fb9f3a\"],[0.8888888888888888,\"#fdca26\"],[1.0,\"#f0f921\"]],\"diverging\":[[0,\"#8e0152\"],[0.1,\"#c51b7d\"],[0.2,\"#de77ae\"],[0.3,\"#f1b6da\"],[0.4,\"#fde0ef\"],[0.5,\"#f7f7f7\"],[0.6,\"#e6f5d0\"],[0.7,\"#b8e186\"],[0.8,\"#7fbc41\"],[0.9,\"#4d9221\"],[1,\"#276419\"]]},\"xaxis\":{\"gridcolor\":\"white\",\"linecolor\":\"white\",\"ticks\":\"\",\"title\":{\"standoff\":15},\"zerolinecolor\":\"white\",\"automargin\":true,\"zerolinewidth\":2},\"yaxis\":{\"gridcolor\":\"white\",\"linecolor\":\"white\",\"ticks\":\"\",\"title\":{\"standoff\":15},\"zerolinecolor\":\"white\",\"automargin\":true,\"zerolinewidth\":2},\"scene\":{\"xaxis\":{\"backgroundcolor\":\"#E5ECF6\",\"gridcolor\":\"white\",\"linecolor\":\"white\",\"showbackground\":true,\"ticks\":\"\",\"zerolinecolor\":\"white\",\"gridwidth\":2},\"yaxis\":{\"backgroundcolor\":\"#E5ECF6\",\"gridcolor\":\"white\",\"linecolor\":\"white\",\"showbackground\":true,\"ticks\":\"\",\"zerolinecolor\":\"white\",\"gridwidth\":2},\"zaxis\":{\"backgroundcolor\":\"#E5ECF6\",\"gridcolor\":\"white\",\"linecolor\":\"white\",\"showbackground\":true,\"ticks\":\"\",\"zerolinecolor\":\"white\",\"gridwidth\":2}},\"shapedefaults\":{\"line\":{\"color\":\"#2a3f5f\"}},\"annotationdefaults\":{\"arrowcolor\":\"#2a3f5f\",\"arrowhead\":0,\"arrowwidth\":1},\"geo\":{\"bgcolor\":\"white\",\"landcolor\":\"#E5ECF6\",\"subunitcolor\":\"white\",\"showland\":true,\"showlakes\":true,\"lakecolor\":\"white\"},\"title\":{\"x\":0.05},\"mapbox\":{\"style\":\"light\"}}},\"title\":{\"text\":\"Plotly Gantt Chart\"},\"showlegend\":false,\"plot_bgcolor\":\"#ffffff\",\"yaxis\":{\"tickfont\":{\"size\":8},\"range\":[22,-1],\"ticktext\":[\"One Work Breakdown Area Testing\",\"A test programme\",\"A test programme (T0)\",\"A test programme (T1)\",\"A test programme (T3)\",\"A test programme (T4)\",\"B test programme\",\"B test programme (T0)\",\"B test programme (T1)\",\"B test programme (T3)\",\"B test programme (T4)\",\"Another Work Breakdown Area Testing\",\"C test programme\",\"C test programme (T0)\",\"C test programme (T1)\",\"C test programme (T3)\",\"C test programme (T4)\",\"D test programme\",\"D test programme (T0)\",\"D test programme (T1)\",\"D test programme (T3)\",\"D test programme (T4)\"],\"tickvals\":[0,1,2,3,4,5,6,7,8,9,10,11,12,13,14,15,16,17,18,19,20,21],\"gridcolor\":\"#cccccc\"},\"xaxis\":{\"range\":[\"2023-05-01T00:00:00\",\"2028-12-12T00:00:00\"],\"type\":\"date\",\"gridcolor\":\"#cccccc\"},\"shapes\":[{\"fillcolor\":\"#440154\",\"line\":{\"width\":0},\"type\":\"rect\",\"x0\":\"2024-05-01T00:00:00\",\"x1\":\"2028-12-12T00:00:00\",\"y0\":-0.3,\"y1\":0.3},{\"fillcolor\":\"#471164\",\"line\":{\"width\":0},\"type\":\"rect\",\"x0\":\"2024-05-01T00:00:00\",\"x1\":\"2028-04-01T00:00:00\",\"y0\":0.7,\"y1\":1.3},{\"fillcolor\":\"#38588c\",\"line\":{\"width\":0},\"type\":\"rect\",\"x0\":\"2025-04-01T00:00:00\",\"x1\":\"2028-12-12T00:00:00\",\"y0\":5.7,\"y1\":6.3},{\"fillcolor\":\"#21918c\",\"line\":{\"width\":0},\"type\":\"rect\",\"x0\":\"2023-05-01T00:00:00\",\"x1\":\"2028-04-01T00:00:00\",\"y0\":10.7,\"y1\":11.3},{\"fillcolor\":\"#1e9b8a\",\"line\":{\"width\":0},\"type\":\"rect\",\"x0\":\"2023-05-01T00:00:00\",\"x1\":\"2026-04-01T00:00:00\",\"y0\":11.7,\"y1\":12.3},{\"fillcolor\":\"#69cd5b\",\"line\":{\"width\":0},\"type\":\"rect\",\"x0\":\"2026-04-01T00:00:00\",\"x1\":\"2028-04-01T00:00:00\",\"y0\":16.7,\"y1\":17.3}]},                        {\"responsive\": true}                    ).then(function(){\n",
       "                            \n",
       "var gd = document.getElementById('e617ddd9-a614-43b6-9e51-7fe38fe69c2b');\n",
       "var x = new MutationObserver(function (mutations, observer) {{\n",
       "        var display = window.getComputedStyle(gd).display;\n",
       "        if (!display || display === 'none') {{\n",
       "            console.log([gd, 'removed!']);\n",
       "            Plotly.purge(gd);\n",
       "            observer.disconnect();\n",
       "        }}\n",
       "}});\n",
       "\n",
       "// Listen for the removal of the full notebook cells\n",
       "var notebookContainer = gd.closest('#notebook-container');\n",
       "if (notebookContainer) {{\n",
       "    x.observe(notebookContainer, {childList: true});\n",
       "}}\n",
       "\n",
       "// Listen for the clearing of the current output cell\n",
       "var outputEl = gd.closest('.output');\n",
       "if (outputEl) {{\n",
       "    x.observe(outputEl, {childList: true});\n",
       "}}\n",
       "\n",
       "                        })                };                });            </script>        </div>"
      ]
     },
     "metadata": {},
     "output_type": "display_data"
    },
    {
     "data": {
      "application/vnd.plotly.v1+json": {
       "config": {
        "plotlyServerURL": "https://plot.ly"
       },
       "data": [
        {
         "marker": {
          "color": "#482173",
          "size": 8,
          "symbol": "diamond"
         },
         "mode": "markers+text",
         "text": [
          ""
         ],
         "textposition": "bottom center",
         "type": "scatter",
         "x": [
          "2024-05-01T00:00:00"
         ],
         "y": [
          2
         ]
        },
        {
         "marker": {
          "color": "#472f7d",
          "size": 8,
          "symbol": "diamond"
         },
         "mode": "markers+text",
         "text": [
          ""
         ],
         "textposition": "bottom center",
         "type": "scatter",
         "x": [
          "2026-04-01T00:00:00"
         ],
         "y": [
          3
         ]
        },
        {
         "marker": {
          "color": "#433e85",
          "size": 8,
          "symbol": "diamond"
         },
         "mode": "markers+text",
         "text": [
          ""
         ],
         "textposition": "bottom center",
         "type": "scatter",
         "x": [
          "2027-04-01T00:00:00"
         ],
         "y": [
          4
         ]
        },
        {
         "marker": {
          "color": "#3e4c8a",
          "size": 8,
          "symbol": "diamond"
         },
         "mode": "markers+text",
         "text": [
          ""
         ],
         "textposition": "bottom center",
         "type": "scatter",
         "x": [
          "2028-04-01T00:00:00"
         ],
         "y": [
          5
         ]
        },
        {
         "marker": {
          "color": "#32648e",
          "size": 8,
          "symbol": "diamond"
         },
         "mode": "markers+text",
         "text": [
          ""
         ],
         "textposition": "bottom center",
         "type": "scatter",
         "x": [
          "2025-04-01T00:00:00"
         ],
         "y": [
          7
         ]
        },
        {
         "marker": {
          "color": "#2d708e",
          "size": 8,
          "symbol": "diamond"
         },
         "mode": "markers+text",
         "text": [
          ""
         ],
         "textposition": "bottom center",
         "type": "scatter",
         "x": [
          "2026-04-01T00:00:00"
         ],
         "y": [
          8
         ]
        },
        {
         "marker": {
          "color": "#297a8e",
          "size": 8,
          "symbol": "diamond"
         },
         "mode": "markers+text",
         "text": [
          ""
         ],
         "textposition": "bottom center",
         "type": "scatter",
         "x": [
          "2027-04-01T00:00:00"
         ],
         "y": [
          9
         ]
        },
        {
         "marker": {
          "color": "#25858e",
          "size": 8,
          "symbol": "diamond"
         },
         "mode": "markers+text",
         "text": [
          ""
         ],
         "textposition": "bottom center",
         "type": "scatter",
         "x": [
          "2028-12-12T00:00:00"
         ],
         "y": [
          10
         ]
        },
        {
         "marker": {
          "color": "#21a685",
          "size": 8,
          "symbol": "diamond"
         },
         "mode": "markers+text",
         "text": [
          ""
         ],
         "textposition": "bottom center",
         "type": "scatter",
         "x": [
          "2023-05-01T00:00:00"
         ],
         "y": [
          13
         ]
        },
        {
         "marker": {
          "color": "#2ab07f",
          "size": 8,
          "symbol": "diamond"
         },
         "mode": "markers+text",
         "text": [
          ""
         ],
         "textposition": "bottom center",
         "type": "scatter",
         "x": [
          "2024-04-01T00:00:00"
         ],
         "y": [
          14
         ]
        },
        {
         "marker": {
          "color": "#3bbb75",
          "size": 8,
          "symbol": "diamond"
         },
         "mode": "markers+text",
         "text": [
          ""
         ],
         "textposition": "bottom center",
         "type": "scatter",
         "x": [
          "2025-04-01T00:00:00"
         ],
         "y": [
          15
         ]
        },
        {
         "marker": {
          "color": "#52c569",
          "size": 8,
          "symbol": "diamond"
         },
         "mode": "markers+text",
         "text": [
          ""
         ],
         "textposition": "bottom center",
         "type": "scatter",
         "x": [
          "2026-04-01T00:00:00"
         ],
         "y": [
          16
         ]
        },
        {
         "marker": {
          "color": "#86d549",
          "size": 8,
          "symbol": "diamond"
         },
         "mode": "markers+text",
         "text": [
          ""
         ],
         "textposition": "bottom center",
         "type": "scatter",
         "x": [
          "2026-04-01T00:00:00"
         ],
         "y": [
          18
         ]
        },
        {
         "marker": {
          "color": "#a5db36",
          "size": 8,
          "symbol": "diamond"
         },
         "mode": "markers+text",
         "text": [
          ""
         ],
         "textposition": "bottom center",
         "type": "scatter",
         "x": [
          "2027-04-01T00:00:00"
         ],
         "y": [
          19
         ]
        },
        {
         "marker": {
          "color": "#c2df23",
          "size": 8,
          "symbol": "diamond"
         },
         "mode": "markers+text",
         "text": [
          ""
         ],
         "textposition": "bottom center",
         "type": "scatter",
         "x": [
          "2027-12-01T00:00:00"
         ],
         "y": [
          20
         ]
        },
        {
         "marker": {
          "color": "#e2e418",
          "size": 8,
          "symbol": "diamond"
         },
         "mode": "markers+text",
         "text": [
          ""
         ],
         "textposition": "bottom center",
         "type": "scatter",
         "x": [
          "2028-04-01T00:00:00"
         ],
         "y": [
          21
         ]
        }
       ],
       "layout": {
        "plot_bgcolor": "#ffffff",
        "shapes": [
         {
          "fillcolor": "#440154",
          "line": {
           "width": 0
          },
          "type": "rect",
          "x0": "2024-05-01T00:00:00",
          "x1": "2028-12-12T00:00:00",
          "y0": -0.3,
          "y1": 0.3
         },
         {
          "fillcolor": "#471164",
          "line": {
           "width": 0
          },
          "type": "rect",
          "x0": "2024-05-01T00:00:00",
          "x1": "2028-04-01T00:00:00",
          "y0": 0.7,
          "y1": 1.3
         },
         {
          "fillcolor": "#38588c",
          "line": {
           "width": 0
          },
          "type": "rect",
          "x0": "2025-04-01T00:00:00",
          "x1": "2028-12-12T00:00:00",
          "y0": 5.7,
          "y1": 6.3
         },
         {
          "fillcolor": "#21918c",
          "line": {
           "width": 0
          },
          "type": "rect",
          "x0": "2023-05-01T00:00:00",
          "x1": "2028-04-01T00:00:00",
          "y0": 10.7,
          "y1": 11.3
         },
         {
          "fillcolor": "#1e9b8a",
          "line": {
           "width": 0
          },
          "type": "rect",
          "x0": "2023-05-01T00:00:00",
          "x1": "2026-04-01T00:00:00",
          "y0": 11.7,
          "y1": 12.3
         },
         {
          "fillcolor": "#69cd5b",
          "line": {
           "width": 0
          },
          "type": "rect",
          "x0": "2026-04-01T00:00:00",
          "x1": "2028-04-01T00:00:00",
          "y0": 16.7,
          "y1": 17.3
         }
        ],
        "showlegend": false,
        "template": {
         "data": {
          "bar": [
           {
            "error_x": {
             "color": "#2a3f5f"
            },
            "error_y": {
             "color": "#2a3f5f"
            },
            "marker": {
             "line": {
              "color": "#E5ECF6",
              "width": 0.5
             },
             "pattern": {
              "fillmode": "overlay",
              "size": 10,
              "solidity": 0.2
             }
            },
            "type": "bar"
           }
          ],
          "barpolar": [
           {
            "marker": {
             "line": {
              "color": "#E5ECF6",
              "width": 0.5
             },
             "pattern": {
              "fillmode": "overlay",
              "size": 10,
              "solidity": 0.2
             }
            },
            "type": "barpolar"
           }
          ],
          "carpet": [
           {
            "aaxis": {
             "endlinecolor": "#2a3f5f",
             "gridcolor": "white",
             "linecolor": "white",
             "minorgridcolor": "white",
             "startlinecolor": "#2a3f5f"
            },
            "baxis": {
             "endlinecolor": "#2a3f5f",
             "gridcolor": "white",
             "linecolor": "white",
             "minorgridcolor": "white",
             "startlinecolor": "#2a3f5f"
            },
            "type": "carpet"
           }
          ],
          "choropleth": [
           {
            "colorbar": {
             "outlinewidth": 0,
             "ticks": ""
            },
            "type": "choropleth"
           }
          ],
          "contour": [
           {
            "colorbar": {
             "outlinewidth": 0,
             "ticks": ""
            },
            "colorscale": [
             [
              0,
              "#0d0887"
             ],
             [
              0.1111111111111111,
              "#46039f"
             ],
             [
              0.2222222222222222,
              "#7201a8"
             ],
             [
              0.3333333333333333,
              "#9c179e"
             ],
             [
              0.4444444444444444,
              "#bd3786"
             ],
             [
              0.5555555555555556,
              "#d8576b"
             ],
             [
              0.6666666666666666,
              "#ed7953"
             ],
             [
              0.7777777777777778,
              "#fb9f3a"
             ],
             [
              0.8888888888888888,
              "#fdca26"
             ],
             [
              1,
              "#f0f921"
             ]
            ],
            "type": "contour"
           }
          ],
          "contourcarpet": [
           {
            "colorbar": {
             "outlinewidth": 0,
             "ticks": ""
            },
            "type": "contourcarpet"
           }
          ],
          "heatmap": [
           {
            "colorbar": {
             "outlinewidth": 0,
             "ticks": ""
            },
            "colorscale": [
             [
              0,
              "#0d0887"
             ],
             [
              0.1111111111111111,
              "#46039f"
             ],
             [
              0.2222222222222222,
              "#7201a8"
             ],
             [
              0.3333333333333333,
              "#9c179e"
             ],
             [
              0.4444444444444444,
              "#bd3786"
             ],
             [
              0.5555555555555556,
              "#d8576b"
             ],
             [
              0.6666666666666666,
              "#ed7953"
             ],
             [
              0.7777777777777778,
              "#fb9f3a"
             ],
             [
              0.8888888888888888,
              "#fdca26"
             ],
             [
              1,
              "#f0f921"
             ]
            ],
            "type": "heatmap"
           }
          ],
          "heatmapgl": [
           {
            "colorbar": {
             "outlinewidth": 0,
             "ticks": ""
            },
            "colorscale": [
             [
              0,
              "#0d0887"
             ],
             [
              0.1111111111111111,
              "#46039f"
             ],
             [
              0.2222222222222222,
              "#7201a8"
             ],
             [
              0.3333333333333333,
              "#9c179e"
             ],
             [
              0.4444444444444444,
              "#bd3786"
             ],
             [
              0.5555555555555556,
              "#d8576b"
             ],
             [
              0.6666666666666666,
              "#ed7953"
             ],
             [
              0.7777777777777778,
              "#fb9f3a"
             ],
             [
              0.8888888888888888,
              "#fdca26"
             ],
             [
              1,
              "#f0f921"
             ]
            ],
            "type": "heatmapgl"
           }
          ],
          "histogram": [
           {
            "marker": {
             "pattern": {
              "fillmode": "overlay",
              "size": 10,
              "solidity": 0.2
             }
            },
            "type": "histogram"
           }
          ],
          "histogram2d": [
           {
            "colorbar": {
             "outlinewidth": 0,
             "ticks": ""
            },
            "colorscale": [
             [
              0,
              "#0d0887"
             ],
             [
              0.1111111111111111,
              "#46039f"
             ],
             [
              0.2222222222222222,
              "#7201a8"
             ],
             [
              0.3333333333333333,
              "#9c179e"
             ],
             [
              0.4444444444444444,
              "#bd3786"
             ],
             [
              0.5555555555555556,
              "#d8576b"
             ],
             [
              0.6666666666666666,
              "#ed7953"
             ],
             [
              0.7777777777777778,
              "#fb9f3a"
             ],
             [
              0.8888888888888888,
              "#fdca26"
             ],
             [
              1,
              "#f0f921"
             ]
            ],
            "type": "histogram2d"
           }
          ],
          "histogram2dcontour": [
           {
            "colorbar": {
             "outlinewidth": 0,
             "ticks": ""
            },
            "colorscale": [
             [
              0,
              "#0d0887"
             ],
             [
              0.1111111111111111,
              "#46039f"
             ],
             [
              0.2222222222222222,
              "#7201a8"
             ],
             [
              0.3333333333333333,
              "#9c179e"
             ],
             [
              0.4444444444444444,
              "#bd3786"
             ],
             [
              0.5555555555555556,
              "#d8576b"
             ],
             [
              0.6666666666666666,
              "#ed7953"
             ],
             [
              0.7777777777777778,
              "#fb9f3a"
             ],
             [
              0.8888888888888888,
              "#fdca26"
             ],
             [
              1,
              "#f0f921"
             ]
            ],
            "type": "histogram2dcontour"
           }
          ],
          "mesh3d": [
           {
            "colorbar": {
             "outlinewidth": 0,
             "ticks": ""
            },
            "type": "mesh3d"
           }
          ],
          "parcoords": [
           {
            "line": {
             "colorbar": {
              "outlinewidth": 0,
              "ticks": ""
             }
            },
            "type": "parcoords"
           }
          ],
          "pie": [
           {
            "automargin": true,
            "type": "pie"
           }
          ],
          "scatter": [
           {
            "fillpattern": {
             "fillmode": "overlay",
             "size": 10,
             "solidity": 0.2
            },
            "type": "scatter"
           }
          ],
          "scatter3d": [
           {
            "line": {
             "colorbar": {
              "outlinewidth": 0,
              "ticks": ""
             }
            },
            "marker": {
             "colorbar": {
              "outlinewidth": 0,
              "ticks": ""
             }
            },
            "type": "scatter3d"
           }
          ],
          "scattercarpet": [
           {
            "marker": {
             "colorbar": {
              "outlinewidth": 0,
              "ticks": ""
             }
            },
            "type": "scattercarpet"
           }
          ],
          "scattergeo": [
           {
            "marker": {
             "colorbar": {
              "outlinewidth": 0,
              "ticks": ""
             }
            },
            "type": "scattergeo"
           }
          ],
          "scattergl": [
           {
            "marker": {
             "colorbar": {
              "outlinewidth": 0,
              "ticks": ""
             }
            },
            "type": "scattergl"
           }
          ],
          "scattermapbox": [
           {
            "marker": {
             "colorbar": {
              "outlinewidth": 0,
              "ticks": ""
             }
            },
            "type": "scattermapbox"
           }
          ],
          "scatterpolar": [
           {
            "marker": {
             "colorbar": {
              "outlinewidth": 0,
              "ticks": ""
             }
            },
            "type": "scatterpolar"
           }
          ],
          "scatterpolargl": [
           {
            "marker": {
             "colorbar": {
              "outlinewidth": 0,
              "ticks": ""
             }
            },
            "type": "scatterpolargl"
           }
          ],
          "scatterternary": [
           {
            "marker": {
             "colorbar": {
              "outlinewidth": 0,
              "ticks": ""
             }
            },
            "type": "scatterternary"
           }
          ],
          "surface": [
           {
            "colorbar": {
             "outlinewidth": 0,
             "ticks": ""
            },
            "colorscale": [
             [
              0,
              "#0d0887"
             ],
             [
              0.1111111111111111,
              "#46039f"
             ],
             [
              0.2222222222222222,
              "#7201a8"
             ],
             [
              0.3333333333333333,
              "#9c179e"
             ],
             [
              0.4444444444444444,
              "#bd3786"
             ],
             [
              0.5555555555555556,
              "#d8576b"
             ],
             [
              0.6666666666666666,
              "#ed7953"
             ],
             [
              0.7777777777777778,
              "#fb9f3a"
             ],
             [
              0.8888888888888888,
              "#fdca26"
             ],
             [
              1,
              "#f0f921"
             ]
            ],
            "type": "surface"
           }
          ],
          "table": [
           {
            "cells": {
             "fill": {
              "color": "#EBF0F8"
             },
             "line": {
              "color": "white"
             }
            },
            "header": {
             "fill": {
              "color": "#C8D4E3"
             },
             "line": {
              "color": "white"
             }
            },
            "type": "table"
           }
          ]
         },
         "layout": {
          "annotationdefaults": {
           "arrowcolor": "#2a3f5f",
           "arrowhead": 0,
           "arrowwidth": 1
          },
          "autotypenumbers": "strict",
          "coloraxis": {
           "colorbar": {
            "outlinewidth": 0,
            "ticks": ""
           }
          },
          "colorscale": {
           "diverging": [
            [
             0,
             "#8e0152"
            ],
            [
             0.1,
             "#c51b7d"
            ],
            [
             0.2,
             "#de77ae"
            ],
            [
             0.3,
             "#f1b6da"
            ],
            [
             0.4,
             "#fde0ef"
            ],
            [
             0.5,
             "#f7f7f7"
            ],
            [
             0.6,
             "#e6f5d0"
            ],
            [
             0.7,
             "#b8e186"
            ],
            [
             0.8,
             "#7fbc41"
            ],
            [
             0.9,
             "#4d9221"
            ],
            [
             1,
             "#276419"
            ]
           ],
           "sequential": [
            [
             0,
             "#0d0887"
            ],
            [
             0.1111111111111111,
             "#46039f"
            ],
            [
             0.2222222222222222,
             "#7201a8"
            ],
            [
             0.3333333333333333,
             "#9c179e"
            ],
            [
             0.4444444444444444,
             "#bd3786"
            ],
            [
             0.5555555555555556,
             "#d8576b"
            ],
            [
             0.6666666666666666,
             "#ed7953"
            ],
            [
             0.7777777777777778,
             "#fb9f3a"
            ],
            [
             0.8888888888888888,
             "#fdca26"
            ],
            [
             1,
             "#f0f921"
            ]
           ],
           "sequentialminus": [
            [
             0,
             "#0d0887"
            ],
            [
             0.1111111111111111,
             "#46039f"
            ],
            [
             0.2222222222222222,
             "#7201a8"
            ],
            [
             0.3333333333333333,
             "#9c179e"
            ],
            [
             0.4444444444444444,
             "#bd3786"
            ],
            [
             0.5555555555555556,
             "#d8576b"
            ],
            [
             0.6666666666666666,
             "#ed7953"
            ],
            [
             0.7777777777777778,
             "#fb9f3a"
            ],
            [
             0.8888888888888888,
             "#fdca26"
            ],
            [
             1,
             "#f0f921"
            ]
           ]
          },
          "colorway": [
           "#636efa",
           "#EF553B",
           "#00cc96",
           "#ab63fa",
           "#FFA15A",
           "#19d3f3",
           "#FF6692",
           "#B6E880",
           "#FF97FF",
           "#FECB52"
          ],
          "font": {
           "color": "#2a3f5f"
          },
          "geo": {
           "bgcolor": "white",
           "lakecolor": "white",
           "landcolor": "#E5ECF6",
           "showlakes": true,
           "showland": true,
           "subunitcolor": "white"
          },
          "hoverlabel": {
           "align": "left"
          },
          "hovermode": "closest",
          "mapbox": {
           "style": "light"
          },
          "paper_bgcolor": "white",
          "plot_bgcolor": "#E5ECF6",
          "polar": {
           "angularaxis": {
            "gridcolor": "white",
            "linecolor": "white",
            "ticks": ""
           },
           "bgcolor": "#E5ECF6",
           "radialaxis": {
            "gridcolor": "white",
            "linecolor": "white",
            "ticks": ""
           }
          },
          "scene": {
           "xaxis": {
            "backgroundcolor": "#E5ECF6",
            "gridcolor": "white",
            "gridwidth": 2,
            "linecolor": "white",
            "showbackground": true,
            "ticks": "",
            "zerolinecolor": "white"
           },
           "yaxis": {
            "backgroundcolor": "#E5ECF6",
            "gridcolor": "white",
            "gridwidth": 2,
            "linecolor": "white",
            "showbackground": true,
            "ticks": "",
            "zerolinecolor": "white"
           },
           "zaxis": {
            "backgroundcolor": "#E5ECF6",
            "gridcolor": "white",
            "gridwidth": 2,
            "linecolor": "white",
            "showbackground": true,
            "ticks": "",
            "zerolinecolor": "white"
           }
          },
          "shapedefaults": {
           "line": {
            "color": "#2a3f5f"
           }
          },
          "ternary": {
           "aaxis": {
            "gridcolor": "white",
            "linecolor": "white",
            "ticks": ""
           },
           "baxis": {
            "gridcolor": "white",
            "linecolor": "white",
            "ticks": ""
           },
           "bgcolor": "#E5ECF6",
           "caxis": {
            "gridcolor": "white",
            "linecolor": "white",
            "ticks": ""
           }
          },
          "title": {
           "x": 0.05
          },
          "xaxis": {
           "automargin": true,
           "gridcolor": "white",
           "linecolor": "white",
           "ticks": "",
           "title": {
            "standoff": 15
           },
           "zerolinecolor": "white",
           "zerolinewidth": 2
          },
          "yaxis": {
           "automargin": true,
           "gridcolor": "white",
           "linecolor": "white",
           "ticks": "",
           "title": {
            "standoff": 15
           },
           "zerolinecolor": "white",
           "zerolinewidth": 2
          }
         }
        },
        "title": {
         "text": "Plotly Gantt Chart"
        },
        "xaxis": {
         "gridcolor": "#cccccc",
         "range": [
          "2023-05-01T00:00:00",
          "2028-12-12T00:00:00"
         ],
         "type": "date"
        },
        "yaxis": {
         "gridcolor": "#cccccc",
         "range": [
          22,
          -1
         ],
         "tickfont": {
          "size": 8
         },
         "ticktext": [
          "One Work Breakdown Area Testing",
          "A test programme",
          "A test programme (T0)",
          "A test programme (T1)",
          "A test programme (T3)",
          "A test programme (T4)",
          "B test programme",
          "B test programme (T0)",
          "B test programme (T1)",
          "B test programme (T3)",
          "B test programme (T4)",
          "Another Work Breakdown Area Testing",
          "C test programme",
          "C test programme (T0)",
          "C test programme (T1)",
          "C test programme (T3)",
          "C test programme (T4)",
          "D test programme",
          "D test programme (T0)",
          "D test programme (T1)",
          "D test programme (T3)",
          "D test programme (T4)"
         ],
         "tickvals": [
          0,
          1,
          2,
          3,
          4,
          5,
          6,
          7,
          8,
          9,
          10,
          11,
          12,
          13,
          14,
          15,
          16,
          17,
          18,
          19,
          20,
          21
         ]
        }
       }
      },
      "text/html": [
       "<div>                            <div id=\"17ee5eff-6c66-47c9-ab30-57b4bdfb27aa\" class=\"plotly-graph-div\" style=\"height:525px; width:100%;\"></div>            <script type=\"text/javascript\">                require([\"plotly\"], function(Plotly) {                    window.PLOTLYENV=window.PLOTLYENV || {};                                    if (document.getElementById(\"17ee5eff-6c66-47c9-ab30-57b4bdfb27aa\")) {                    Plotly.newPlot(                        \"17ee5eff-6c66-47c9-ab30-57b4bdfb27aa\",                        [{\"marker\":{\"color\":\"#482173\",\"size\":8,\"symbol\":\"diamond\"},\"mode\":\"markers+text\",\"text\":[\"\"],\"textposition\":\"bottom center\",\"x\":[\"2024-05-01T00:00:00\"],\"y\":[2],\"type\":\"scatter\"},{\"marker\":{\"color\":\"#472f7d\",\"size\":8,\"symbol\":\"diamond\"},\"mode\":\"markers+text\",\"text\":[\"\"],\"textposition\":\"bottom center\",\"x\":[\"2026-04-01T00:00:00\"],\"y\":[3],\"type\":\"scatter\"},{\"marker\":{\"color\":\"#433e85\",\"size\":8,\"symbol\":\"diamond\"},\"mode\":\"markers+text\",\"text\":[\"\"],\"textposition\":\"bottom center\",\"x\":[\"2027-04-01T00:00:00\"],\"y\":[4],\"type\":\"scatter\"},{\"marker\":{\"color\":\"#3e4c8a\",\"size\":8,\"symbol\":\"diamond\"},\"mode\":\"markers+text\",\"text\":[\"\"],\"textposition\":\"bottom center\",\"x\":[\"2028-04-01T00:00:00\"],\"y\":[5],\"type\":\"scatter\"},{\"marker\":{\"color\":\"#32648e\",\"size\":8,\"symbol\":\"diamond\"},\"mode\":\"markers+text\",\"text\":[\"\"],\"textposition\":\"bottom center\",\"x\":[\"2025-04-01T00:00:00\"],\"y\":[7],\"type\":\"scatter\"},{\"marker\":{\"color\":\"#2d708e\",\"size\":8,\"symbol\":\"diamond\"},\"mode\":\"markers+text\",\"text\":[\"\"],\"textposition\":\"bottom center\",\"x\":[\"2026-04-01T00:00:00\"],\"y\":[8],\"type\":\"scatter\"},{\"marker\":{\"color\":\"#297a8e\",\"size\":8,\"symbol\":\"diamond\"},\"mode\":\"markers+text\",\"text\":[\"\"],\"textposition\":\"bottom center\",\"x\":[\"2027-04-01T00:00:00\"],\"y\":[9],\"type\":\"scatter\"},{\"marker\":{\"color\":\"#25858e\",\"size\":8,\"symbol\":\"diamond\"},\"mode\":\"markers+text\",\"text\":[\"\"],\"textposition\":\"bottom center\",\"x\":[\"2028-12-12T00:00:00\"],\"y\":[10],\"type\":\"scatter\"},{\"marker\":{\"color\":\"#21a685\",\"size\":8,\"symbol\":\"diamond\"},\"mode\":\"markers+text\",\"text\":[\"\"],\"textposition\":\"bottom center\",\"x\":[\"2023-05-01T00:00:00\"],\"y\":[13],\"type\":\"scatter\"},{\"marker\":{\"color\":\"#2ab07f\",\"size\":8,\"symbol\":\"diamond\"},\"mode\":\"markers+text\",\"text\":[\"\"],\"textposition\":\"bottom center\",\"x\":[\"2024-04-01T00:00:00\"],\"y\":[14],\"type\":\"scatter\"},{\"marker\":{\"color\":\"#3bbb75\",\"size\":8,\"symbol\":\"diamond\"},\"mode\":\"markers+text\",\"text\":[\"\"],\"textposition\":\"bottom center\",\"x\":[\"2025-04-01T00:00:00\"],\"y\":[15],\"type\":\"scatter\"},{\"marker\":{\"color\":\"#52c569\",\"size\":8,\"symbol\":\"diamond\"},\"mode\":\"markers+text\",\"text\":[\"\"],\"textposition\":\"bottom center\",\"x\":[\"2026-04-01T00:00:00\"],\"y\":[16],\"type\":\"scatter\"},{\"marker\":{\"color\":\"#86d549\",\"size\":8,\"symbol\":\"diamond\"},\"mode\":\"markers+text\",\"text\":[\"\"],\"textposition\":\"bottom center\",\"x\":[\"2026-04-01T00:00:00\"],\"y\":[18],\"type\":\"scatter\"},{\"marker\":{\"color\":\"#a5db36\",\"size\":8,\"symbol\":\"diamond\"},\"mode\":\"markers+text\",\"text\":[\"\"],\"textposition\":\"bottom center\",\"x\":[\"2027-04-01T00:00:00\"],\"y\":[19],\"type\":\"scatter\"},{\"marker\":{\"color\":\"#c2df23\",\"size\":8,\"symbol\":\"diamond\"},\"mode\":\"markers+text\",\"text\":[\"\"],\"textposition\":\"bottom center\",\"x\":[\"2027-12-01T00:00:00\"],\"y\":[20],\"type\":\"scatter\"},{\"marker\":{\"color\":\"#e2e418\",\"size\":8,\"symbol\":\"diamond\"},\"mode\":\"markers+text\",\"text\":[\"\"],\"textposition\":\"bottom center\",\"x\":[\"2028-04-01T00:00:00\"],\"y\":[21],\"type\":\"scatter\"}],                        {\"template\":{\"data\":{\"histogram2dcontour\":[{\"type\":\"histogram2dcontour\",\"colorbar\":{\"outlinewidth\":0,\"ticks\":\"\"},\"colorscale\":[[0.0,\"#0d0887\"],[0.1111111111111111,\"#46039f\"],[0.2222222222222222,\"#7201a8\"],[0.3333333333333333,\"#9c179e\"],[0.4444444444444444,\"#bd3786\"],[0.5555555555555556,\"#d8576b\"],[0.6666666666666666,\"#ed7953\"],[0.7777777777777778,\"#fb9f3a\"],[0.8888888888888888,\"#fdca26\"],[1.0,\"#f0f921\"]]}],\"choropleth\":[{\"type\":\"choropleth\",\"colorbar\":{\"outlinewidth\":0,\"ticks\":\"\"}}],\"histogram2d\":[{\"type\":\"histogram2d\",\"colorbar\":{\"outlinewidth\":0,\"ticks\":\"\"},\"colorscale\":[[0.0,\"#0d0887\"],[0.1111111111111111,\"#46039f\"],[0.2222222222222222,\"#7201a8\"],[0.3333333333333333,\"#9c179e\"],[0.4444444444444444,\"#bd3786\"],[0.5555555555555556,\"#d8576b\"],[0.6666666666666666,\"#ed7953\"],[0.7777777777777778,\"#fb9f3a\"],[0.8888888888888888,\"#fdca26\"],[1.0,\"#f0f921\"]]}],\"heatmap\":[{\"type\":\"heatmap\",\"colorbar\":{\"outlinewidth\":0,\"ticks\":\"\"},\"colorscale\":[[0.0,\"#0d0887\"],[0.1111111111111111,\"#46039f\"],[0.2222222222222222,\"#7201a8\"],[0.3333333333333333,\"#9c179e\"],[0.4444444444444444,\"#bd3786\"],[0.5555555555555556,\"#d8576b\"],[0.6666666666666666,\"#ed7953\"],[0.7777777777777778,\"#fb9f3a\"],[0.8888888888888888,\"#fdca26\"],[1.0,\"#f0f921\"]]}],\"heatmapgl\":[{\"type\":\"heatmapgl\",\"colorbar\":{\"outlinewidth\":0,\"ticks\":\"\"},\"colorscale\":[[0.0,\"#0d0887\"],[0.1111111111111111,\"#46039f\"],[0.2222222222222222,\"#7201a8\"],[0.3333333333333333,\"#9c179e\"],[0.4444444444444444,\"#bd3786\"],[0.5555555555555556,\"#d8576b\"],[0.6666666666666666,\"#ed7953\"],[0.7777777777777778,\"#fb9f3a\"],[0.8888888888888888,\"#fdca26\"],[1.0,\"#f0f921\"]]}],\"contourcarpet\":[{\"type\":\"contourcarpet\",\"colorbar\":{\"outlinewidth\":0,\"ticks\":\"\"}}],\"contour\":[{\"type\":\"contour\",\"colorbar\":{\"outlinewidth\":0,\"ticks\":\"\"},\"colorscale\":[[0.0,\"#0d0887\"],[0.1111111111111111,\"#46039f\"],[0.2222222222222222,\"#7201a8\"],[0.3333333333333333,\"#9c179e\"],[0.4444444444444444,\"#bd3786\"],[0.5555555555555556,\"#d8576b\"],[0.6666666666666666,\"#ed7953\"],[0.7777777777777778,\"#fb9f3a\"],[0.8888888888888888,\"#fdca26\"],[1.0,\"#f0f921\"]]}],\"surface\":[{\"type\":\"surface\",\"colorbar\":{\"outlinewidth\":0,\"ticks\":\"\"},\"colorscale\":[[0.0,\"#0d0887\"],[0.1111111111111111,\"#46039f\"],[0.2222222222222222,\"#7201a8\"],[0.3333333333333333,\"#9c179e\"],[0.4444444444444444,\"#bd3786\"],[0.5555555555555556,\"#d8576b\"],[0.6666666666666666,\"#ed7953\"],[0.7777777777777778,\"#fb9f3a\"],[0.8888888888888888,\"#fdca26\"],[1.0,\"#f0f921\"]]}],\"mesh3d\":[{\"type\":\"mesh3d\",\"colorbar\":{\"outlinewidth\":0,\"ticks\":\"\"}}],\"scatter\":[{\"fillpattern\":{\"fillmode\":\"overlay\",\"size\":10,\"solidity\":0.2},\"type\":\"scatter\"}],\"parcoords\":[{\"type\":\"parcoords\",\"line\":{\"colorbar\":{\"outlinewidth\":0,\"ticks\":\"\"}}}],\"scatterpolargl\":[{\"type\":\"scatterpolargl\",\"marker\":{\"colorbar\":{\"outlinewidth\":0,\"ticks\":\"\"}}}],\"bar\":[{\"error_x\":{\"color\":\"#2a3f5f\"},\"error_y\":{\"color\":\"#2a3f5f\"},\"marker\":{\"line\":{\"color\":\"#E5ECF6\",\"width\":0.5},\"pattern\":{\"fillmode\":\"overlay\",\"size\":10,\"solidity\":0.2}},\"type\":\"bar\"}],\"scattergeo\":[{\"type\":\"scattergeo\",\"marker\":{\"colorbar\":{\"outlinewidth\":0,\"ticks\":\"\"}}}],\"scatterpolar\":[{\"type\":\"scatterpolar\",\"marker\":{\"colorbar\":{\"outlinewidth\":0,\"ticks\":\"\"}}}],\"histogram\":[{\"marker\":{\"pattern\":{\"fillmode\":\"overlay\",\"size\":10,\"solidity\":0.2}},\"type\":\"histogram\"}],\"scattergl\":[{\"type\":\"scattergl\",\"marker\":{\"colorbar\":{\"outlinewidth\":0,\"ticks\":\"\"}}}],\"scatter3d\":[{\"type\":\"scatter3d\",\"line\":{\"colorbar\":{\"outlinewidth\":0,\"ticks\":\"\"}},\"marker\":{\"colorbar\":{\"outlinewidth\":0,\"ticks\":\"\"}}}],\"scattermapbox\":[{\"type\":\"scattermapbox\",\"marker\":{\"colorbar\":{\"outlinewidth\":0,\"ticks\":\"\"}}}],\"scatterternary\":[{\"type\":\"scatterternary\",\"marker\":{\"colorbar\":{\"outlinewidth\":0,\"ticks\":\"\"}}}],\"scattercarpet\":[{\"type\":\"scattercarpet\",\"marker\":{\"colorbar\":{\"outlinewidth\":0,\"ticks\":\"\"}}}],\"carpet\":[{\"aaxis\":{\"endlinecolor\":\"#2a3f5f\",\"gridcolor\":\"white\",\"linecolor\":\"white\",\"minorgridcolor\":\"white\",\"startlinecolor\":\"#2a3f5f\"},\"baxis\":{\"endlinecolor\":\"#2a3f5f\",\"gridcolor\":\"white\",\"linecolor\":\"white\",\"minorgridcolor\":\"white\",\"startlinecolor\":\"#2a3f5f\"},\"type\":\"carpet\"}],\"table\":[{\"cells\":{\"fill\":{\"color\":\"#EBF0F8\"},\"line\":{\"color\":\"white\"}},\"header\":{\"fill\":{\"color\":\"#C8D4E3\"},\"line\":{\"color\":\"white\"}},\"type\":\"table\"}],\"barpolar\":[{\"marker\":{\"line\":{\"color\":\"#E5ECF6\",\"width\":0.5},\"pattern\":{\"fillmode\":\"overlay\",\"size\":10,\"solidity\":0.2}},\"type\":\"barpolar\"}],\"pie\":[{\"automargin\":true,\"type\":\"pie\"}]},\"layout\":{\"autotypenumbers\":\"strict\",\"colorway\":[\"#636efa\",\"#EF553B\",\"#00cc96\",\"#ab63fa\",\"#FFA15A\",\"#19d3f3\",\"#FF6692\",\"#B6E880\",\"#FF97FF\",\"#FECB52\"],\"font\":{\"color\":\"#2a3f5f\"},\"hovermode\":\"closest\",\"hoverlabel\":{\"align\":\"left\"},\"paper_bgcolor\":\"white\",\"plot_bgcolor\":\"#E5ECF6\",\"polar\":{\"bgcolor\":\"#E5ECF6\",\"angularaxis\":{\"gridcolor\":\"white\",\"linecolor\":\"white\",\"ticks\":\"\"},\"radialaxis\":{\"gridcolor\":\"white\",\"linecolor\":\"white\",\"ticks\":\"\"}},\"ternary\":{\"bgcolor\":\"#E5ECF6\",\"aaxis\":{\"gridcolor\":\"white\",\"linecolor\":\"white\",\"ticks\":\"\"},\"baxis\":{\"gridcolor\":\"white\",\"linecolor\":\"white\",\"ticks\":\"\"},\"caxis\":{\"gridcolor\":\"white\",\"linecolor\":\"white\",\"ticks\":\"\"}},\"coloraxis\":{\"colorbar\":{\"outlinewidth\":0,\"ticks\":\"\"}},\"colorscale\":{\"sequential\":[[0.0,\"#0d0887\"],[0.1111111111111111,\"#46039f\"],[0.2222222222222222,\"#7201a8\"],[0.3333333333333333,\"#9c179e\"],[0.4444444444444444,\"#bd3786\"],[0.5555555555555556,\"#d8576b\"],[0.6666666666666666,\"#ed7953\"],[0.7777777777777778,\"#fb9f3a\"],[0.8888888888888888,\"#fdca26\"],[1.0,\"#f0f921\"]],\"sequentialminus\":[[0.0,\"#0d0887\"],[0.1111111111111111,\"#46039f\"],[0.2222222222222222,\"#7201a8\"],[0.3333333333333333,\"#9c179e\"],[0.4444444444444444,\"#bd3786\"],[0.5555555555555556,\"#d8576b\"],[0.6666666666666666,\"#ed7953\"],[0.7777777777777778,\"#fb9f3a\"],[0.8888888888888888,\"#fdca26\"],[1.0,\"#f0f921\"]],\"diverging\":[[0,\"#8e0152\"],[0.1,\"#c51b7d\"],[0.2,\"#de77ae\"],[0.3,\"#f1b6da\"],[0.4,\"#fde0ef\"],[0.5,\"#f7f7f7\"],[0.6,\"#e6f5d0\"],[0.7,\"#b8e186\"],[0.8,\"#7fbc41\"],[0.9,\"#4d9221\"],[1,\"#276419\"]]},\"xaxis\":{\"gridcolor\":\"white\",\"linecolor\":\"white\",\"ticks\":\"\",\"title\":{\"standoff\":15},\"zerolinecolor\":\"white\",\"automargin\":true,\"zerolinewidth\":2},\"yaxis\":{\"gridcolor\":\"white\",\"linecolor\":\"white\",\"ticks\":\"\",\"title\":{\"standoff\":15},\"zerolinecolor\":\"white\",\"automargin\":true,\"zerolinewidth\":2},\"scene\":{\"xaxis\":{\"backgroundcolor\":\"#E5ECF6\",\"gridcolor\":\"white\",\"linecolor\":\"white\",\"showbackground\":true,\"ticks\":\"\",\"zerolinecolor\":\"white\",\"gridwidth\":2},\"yaxis\":{\"backgroundcolor\":\"#E5ECF6\",\"gridcolor\":\"white\",\"linecolor\":\"white\",\"showbackground\":true,\"ticks\":\"\",\"zerolinecolor\":\"white\",\"gridwidth\":2},\"zaxis\":{\"backgroundcolor\":\"#E5ECF6\",\"gridcolor\":\"white\",\"linecolor\":\"white\",\"showbackground\":true,\"ticks\":\"\",\"zerolinecolor\":\"white\",\"gridwidth\":2}},\"shapedefaults\":{\"line\":{\"color\":\"#2a3f5f\"}},\"annotationdefaults\":{\"arrowcolor\":\"#2a3f5f\",\"arrowhead\":0,\"arrowwidth\":1},\"geo\":{\"bgcolor\":\"white\",\"landcolor\":\"#E5ECF6\",\"subunitcolor\":\"white\",\"showland\":true,\"showlakes\":true,\"lakecolor\":\"white\"},\"title\":{\"x\":0.05},\"mapbox\":{\"style\":\"light\"}}},\"title\":{\"text\":\"Plotly Gantt Chart\"},\"showlegend\":false,\"plot_bgcolor\":\"#ffffff\",\"yaxis\":{\"tickfont\":{\"size\":8},\"range\":[22,-1],\"ticktext\":[\"One Work Breakdown Area Testing\",\"A test programme\",\"A test programme (T0)\",\"A test programme (T1)\",\"A test programme (T3)\",\"A test programme (T4)\",\"B test programme\",\"B test programme (T0)\",\"B test programme (T1)\",\"B test programme (T3)\",\"B test programme (T4)\",\"Another Work Breakdown Area Testing\",\"C test programme\",\"C test programme (T0)\",\"C test programme (T1)\",\"C test programme (T3)\",\"C test programme (T4)\",\"D test programme\",\"D test programme (T0)\",\"D test programme (T1)\",\"D test programme (T3)\",\"D test programme (T4)\"],\"tickvals\":[0,1,2,3,4,5,6,7,8,9,10,11,12,13,14,15,16,17,18,19,20,21],\"gridcolor\":\"#cccccc\"},\"xaxis\":{\"range\":[\"2023-05-01T00:00:00\",\"2028-12-12T00:00:00\"],\"type\":\"date\",\"gridcolor\":\"#cccccc\"},\"shapes\":[{\"fillcolor\":\"#440154\",\"line\":{\"width\":0},\"type\":\"rect\",\"x0\":\"2024-05-01T00:00:00\",\"x1\":\"2028-12-12T00:00:00\",\"y0\":-0.3,\"y1\":0.3},{\"fillcolor\":\"#471164\",\"line\":{\"width\":0},\"type\":\"rect\",\"x0\":\"2024-05-01T00:00:00\",\"x1\":\"2028-04-01T00:00:00\",\"y0\":0.7,\"y1\":1.3},{\"fillcolor\":\"#38588c\",\"line\":{\"width\":0},\"type\":\"rect\",\"x0\":\"2025-04-01T00:00:00\",\"x1\":\"2028-12-12T00:00:00\",\"y0\":5.7,\"y1\":6.3},{\"fillcolor\":\"#21918c\",\"line\":{\"width\":0},\"type\":\"rect\",\"x0\":\"2023-05-01T00:00:00\",\"x1\":\"2028-04-01T00:00:00\",\"y0\":10.7,\"y1\":11.3},{\"fillcolor\":\"#1e9b8a\",\"line\":{\"width\":0},\"type\":\"rect\",\"x0\":\"2023-05-01T00:00:00\",\"x1\":\"2026-04-01T00:00:00\",\"y0\":11.7,\"y1\":12.3},{\"fillcolor\":\"#69cd5b\",\"line\":{\"width\":0},\"type\":\"rect\",\"x0\":\"2026-04-01T00:00:00\",\"x1\":\"2028-04-01T00:00:00\",\"y0\":16.7,\"y1\":17.3}]},                        {\"responsive\": true}                    ).then(function(){\n",
       "                            \n",
       "var gd = document.getElementById('17ee5eff-6c66-47c9-ab30-57b4bdfb27aa');\n",
       "var x = new MutationObserver(function (mutations, observer) {{\n",
       "        var display = window.getComputedStyle(gd).display;\n",
       "        if (!display || display === 'none') {{\n",
       "            console.log([gd, 'removed!']);\n",
       "            Plotly.purge(gd);\n",
       "            observer.disconnect();\n",
       "        }}\n",
       "}});\n",
       "\n",
       "// Listen for the removal of the full notebook cells\n",
       "var notebookContainer = gd.closest('#notebook-container');\n",
       "if (notebookContainer) {{\n",
       "    x.observe(notebookContainer, {childList: true});\n",
       "}}\n",
       "\n",
       "// Listen for the clearing of the current output cell\n",
       "var outputEl = gd.closest('.output');\n",
       "if (outputEl) {{\n",
       "    x.observe(outputEl, {childList: true});\n",
       "}}\n",
       "\n",
       "                        })                };                });            </script>        </div>"
      ]
     },
     "metadata": {},
     "output_type": "display_data"
    }
   ],
   "source": [
    "import os\n",
    "import sys\n",
    "import pandas as pd\n",
    "import plotly.graph_objects as go\n",
    "from matplotlib import colormaps as cm\n",
    "sys.path.insert(0,os.path.abspath('..'))\n",
    "import giganttic as gt\n",
    "\n",
    "inputfile = './exampledata1.csv'\n",
    "\n",
    "df = gt.import_csv(inputfile)\n",
    "gt.get_colors(df,cmap_fill=cm['viridis'],fillcolumn='name')\n",
    "\n",
    "gt.plotly_gantt(df,renderer=None)"
   ]
  },
  {
   "cell_type": "code",
   "execution_count": null,
   "id": "40c35180",
   "metadata": {},
   "outputs": [],
   "source": []
  },
  {
   "cell_type": "code",
   "execution_count": null,
   "id": "d0c067d8",
   "metadata": {},
   "outputs": [],
   "source": []
  }
 ],
 "metadata": {
  "kernelspec": {
   "display_name": "Python 3 (ipykernel)",
   "language": "python",
   "name": "python3"
  },
  "language_info": {
   "codemirror_mode": {
    "name": "ipython",
    "version": 3
   },
   "file_extension": ".py",
   "mimetype": "text/x-python",
   "name": "python",
   "nbconvert_exporter": "python",
   "pygments_lexer": "ipython3",
   "version": "3.11.4"
  }
 },
 "nbformat": 4,
 "nbformat_minor": 5
}
