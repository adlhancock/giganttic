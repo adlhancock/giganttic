{
 "cells": [
  {
   "cell_type": "markdown",
   "id": "e57e9231-44a5-47a8-aeef-6dc4163f2996",
   "metadata": {},
   "source": [
    "# giganttic test"
   ]
  },
  {
   "cell_type": "markdown",
   "id": "e555e301-76a9-46c4-8f41-2121f63b9534",
   "metadata": {},
   "source": [
    "jupyter notebook testing for gigtanttic. Root kernel directory must be at least two levels above!"
   ]
  },
  {
   "cell_type": "markdown",
   "id": "c811f788-efc6-436f-952c-f57982e0f235",
   "metadata": {},
   "source": [
    "## import packages"
   ]
  },
  {
   "cell_type": "code",
   "execution_count": 1,
   "id": "c5fa8336-c4ce-47fb-8cdb-1a9e76eb094e",
   "metadata": {
    "editable": true,
    "slideshow": {
     "slide_type": ""
    },
    "tags": []
   },
   "outputs": [
    {
     "ename": "ModuleNotFoundError",
     "evalue": "No module named 'pandas'",
     "output_type": "error",
     "traceback": [
      "\u001b[1;31m---------------------------------------------------------------------------\u001b[0m",
      "\u001b[1;31mModuleNotFoundError\u001b[0m                       Traceback (most recent call last)",
      "Cell \u001b[1;32mIn[1], line 5\u001b[0m\n\u001b[0;32m      3\u001b[0m \u001b[38;5;28;01mfrom\u001b[39;00m \u001b[38;5;21;01mmatplotlib\u001b[39;00m \u001b[38;5;28;01mimport\u001b[39;00m colormaps\n\u001b[0;32m      4\u001b[0m sys\u001b[38;5;241m.\u001b[39mpath\u001b[38;5;241m.\u001b[39minsert(\u001b[38;5;241m0\u001b[39m,os\u001b[38;5;241m.\u001b[39mpath\u001b[38;5;241m.\u001b[39mabspath(\u001b[38;5;124m'\u001b[39m\u001b[38;5;124m..\u001b[39m\u001b[38;5;124m'\u001b[39m))\n\u001b[1;32m----> 5\u001b[0m \u001b[38;5;28;01mimport\u001b[39;00m \u001b[38;5;21;01mgiganttic\u001b[39;00m \u001b[38;5;28;01mas\u001b[39;00m \u001b[38;5;21;01mgt\u001b[39;00m\n",
      "File \u001b[1;32mC:\\local\\python\\giganttic\\giganttic\\__init__.py:3\u001b[0m\n\u001b[0;32m      1\u001b[0m \u001b[38;5;66;03m# giganttic/__init__.py\u001b[39;00m\n\u001b[1;32m----> 3\u001b[0m \u001b[38;5;28;01mfrom\u001b[39;00m \u001b[38;5;21;01m.\u001b[39;00m\u001b[38;5;21;01mgiganttic\u001b[39;00m \u001b[38;5;28;01mimport\u001b[39;00m \u001b[38;5;241m*\u001b[39m\n\u001b[0;32m      4\u001b[0m \u001b[38;5;28;01mfrom\u001b[39;00m \u001b[38;5;21;01m.\u001b[39;00m\u001b[38;5;21;01mimport_fns\u001b[39;00m \u001b[38;5;28;01mimport\u001b[39;00m \u001b[38;5;241m*\u001b[39m\n\u001b[0;32m      5\u001b[0m \u001b[38;5;28;01mfrom\u001b[39;00m \u001b[38;5;21;01m.\u001b[39;00m\u001b[38;5;21;01mdata_fns\u001b[39;00m \u001b[38;5;28;01mimport\u001b[39;00m \u001b[38;5;241m*\u001b[39m\n",
      "File \u001b[1;32mC:\\local\\python\\giganttic\\giganttic\\giganttic.py:15\u001b[0m\n\u001b[0;32m      9\u001b[0m \u001b[38;5;28;01mimport\u001b[39;00m \u001b[38;5;21;01mmatplotlib\u001b[39;00m\u001b[38;5;21;01m.\u001b[39;00m\u001b[38;5;21;01mpyplot\u001b[39;00m \u001b[38;5;28;01mas\u001b[39;00m \u001b[38;5;21;01mplt\u001b[39;00m\n\u001b[0;32m     11\u001b[0m \u001b[38;5;66;03m#import giganttic.import_fns as gim\u001b[39;00m\n\u001b[0;32m     12\u001b[0m \u001b[38;5;66;03m#from giganttic.data_fns import filter_data\u001b[39;00m\n\u001b[0;32m     13\u001b[0m \u001b[38;5;66;03m#from giganttic.plotting_fns import gantt_chart\u001b[39;00m\n\u001b[1;32m---> 15\u001b[0m \u001b[38;5;28;01mfrom\u001b[39;00m \u001b[38;5;21;01m.\u001b[39;00m \u001b[38;5;28;01mimport\u001b[39;00m import_fns \u001b[38;5;28;01mas\u001b[39;00m gim\n\u001b[0;32m     16\u001b[0m \u001b[38;5;28;01mfrom\u001b[39;00m \u001b[38;5;21;01m.\u001b[39;00m\u001b[38;5;21;01mdata_fns\u001b[39;00m \u001b[38;5;28;01mimport\u001b[39;00m filter_data\n\u001b[0;32m     17\u001b[0m \u001b[38;5;28;01mfrom\u001b[39;00m \u001b[38;5;21;01m.\u001b[39;00m\u001b[38;5;21;01mplotting_fns\u001b[39;00m \u001b[38;5;28;01mimport\u001b[39;00m gantt_chart\n",
      "File \u001b[1;32mC:\\local\\python\\giganttic\\giganttic\\import_fns.py:10\u001b[0m\n\u001b[0;32m      2\u001b[0m \u001b[38;5;124;03m\"\"\"\u001b[39;00m\n\u001b[0;32m      3\u001b[0m \u001b[38;5;124;03mimport functions for giganttic \u001b[39;00m\n\u001b[0;32m      4\u001b[0m \n\u001b[1;32m   (...)\u001b[0m\n\u001b[0;32m      7\u001b[0m \u001b[38;5;124;03m@author: dhancock\u001b[39;00m\n\u001b[0;32m      8\u001b[0m \u001b[38;5;124;03m\"\"\"\u001b[39;00m\n\u001b[0;32m      9\u001b[0m \u001b[38;5;28;01mimport\u001b[39;00m \u001b[38;5;21;01mcsv\u001b[39;00m\n\u001b[1;32m---> 10\u001b[0m \u001b[38;5;28;01mimport\u001b[39;00m \u001b[38;5;21;01mpandas\u001b[39;00m \u001b[38;5;28;01mas\u001b[39;00m \u001b[38;5;21;01mpd\u001b[39;00m\n\u001b[0;32m     11\u001b[0m \u001b[38;5;66;03m#import numpy as np\u001b[39;00m\n\u001b[0;32m     12\u001b[0m \u001b[38;5;28;01mimport\u001b[39;00m \u001b[38;5;21;01mxmltodict\u001b[39;00m\n",
      "\u001b[1;31mModuleNotFoundError\u001b[0m: No module named 'pandas'"
     ]
    }
   ],
   "source": [
    "import os\n",
    "import sys\n",
    "from matplotlib import colormaps\n",
    "sys.path.insert(0,os.path.abspath('..'))\n",
    "import giganttic as gt"
   ]
  },
  {
   "cell_type": "markdown",
   "id": "08c73f64-3cfd-4fdd-ad5b-fafd570c27fd",
   "metadata": {},
   "source": [
    "## CASE 1\n",
    "\n",
    "import, plot and save a csv file separately."
   ]
  },
  {
   "cell_type": "code",
   "execution_count": null,
   "id": "a0a45b2e-47e2-4370-8b95-af08d4d7dea2",
   "metadata": {},
   "outputs": [],
   "source": [
    "def case_1():\n",
    "    \"\"\"\n",
    "    CASE 1 - import, plot and save separately.\n",
    "    \"\"\"\n",
    "    \n",
    "\n",
    "    df = gt.import_csv('./exampledata1.csv')\n",
    "\n",
    "    ax, fig = gt.gantt_chart(df, \n",
    "                             title='Example 1',\n",
    "                             fillcolumn=\"id\",\n",
    "                             cmap = colormaps['tab10'],\n",
    "                             connections=True,\n",
    "                             nowline = True)\n",
    "    fig.savefig('case_1.png')\n",
    "    #fig.show()\n",
    "    \n",
    "    out = df,ax,fig\n",
    "    return out\n",
    "\n",
    "out1 = case_1()\n",
    "out[3].show()"
   ]
  },
  {
   "cell_type": "markdown",
   "id": "4affc994-6571-4c54-837c-dc943fb803cc",
   "metadata": {},
   "source": [
    "## CASE 2\n",
    "\n",
    "all in one with an excel file\n"
   ]
  },
  {
   "cell_type": "code",
   "execution_count": null,
   "id": "dd8ced07-1b39-40b8-9a28-217dc5f6caea",
   "metadata": {},
   "outputs": [],
   "source": [
    "def case_2():\n",
    "    \"\"\"\n",
    "    CASE 2 all in one with an excel file\n",
    "    \"\"\"\n",
    "    out = gt.giganttic('exampledata2.xlsx',\n",
    "                        'case_2.png',\n",
    "                        'Example 2', \n",
    "                        default_fill = '#cccccc',\n",
    "                        cmap_border = colormaps['viridis'],\n",
    "                        bordercolumn = 'id',\n",
    "                        connections = False,\n",
    "                        legend = True,\n",
    "                        nowline = False)\n",
    "    return out \n",
    "\n",
    "out2 = case_2()"
   ]
  },
  {
   "cell_type": "markdown",
   "id": "9d689e5d-cca5-426d-a82c-54936fdc6e98",
   "metadata": {
    "editable": true,
    "slideshow": {
     "slide_type": ""
    },
    "tags": []
   },
   "source": [
    "## CASE 3\n",
    "\n",
    "dummy data\n"
   ]
  },
  {
   "cell_type": "code",
   "execution_count": null,
   "id": "4bf759e1-f092-4c86-99fb-90aadaa25d61",
   "metadata": {},
   "outputs": [],
   "source": [
    "def case_3():\n",
    "    \"\"\"\n",
    "    CASE 3 all in one with a list\n",
    "    \"\"\"\n",
    "    \n",
    "    DUMMYDATA = [\n",
    "        [\"id\",\"name\",\"start\",\"end\",\"level\"],\n",
    "        [1,\"task 1\",\"31-Jan-2023\",\"12/12/2028\",1],\n",
    "        [2,\"task 2\",\"31/08/2023\",\"12/12/2025\",2],\n",
    "        [3,\"another task\",\"01/01/2025\",\"12/01/2028\",2],\n",
    "        [4,\"do some testing\",\"01/01/2025\",\"12/12/2030\",1],\n",
    "        [5,\"design something\",\"01/01/2025\",\"12/12/2028\",2],\n",
    "        [6,\"Milestone\",\"01/01/2027\",\"01/01/2027\",2],\n",
    "        [7,\"B\",\"01/01/2025\",\"12/12/2026\",3],\n",
    "        [8,\"task C\",\"01/01/2026\",\"12/01/2027\",3],\n",
    "        [9,\"D\",\"01/01/2027\",\"12/12/2028\",3],\n",
    "        [10,\"F\",\"01/01/2027\",\"12/12/2030\",2],\n",
    "        ]\n",
    "    out = gt.giganttic(DUMMYDATA,'case_3.png','Example 3', connections = False,default_fill='pink')\n",
    "    return out\n",
    "\n",
    "out3 = case_3()"
   ]
  },
  {
   "cell_type": "markdown",
   "id": "f92468aa-dad7-43fa-825b-eb23764cf8e5",
   "metadata": {},
   "source": [
    "## CASE 4 \n",
    "CASE 4: manual file picking with a custom colourmap"
   ]
  },
  {
   "cell_type": "code",
   "execution_count": null,
   "id": "c9e206eb-7921-4e7d-be5f-b0e314b539d0",
   "metadata": {},
   "outputs": [],
   "source": [
    "def case_4(): \n",
    "    \"\"\" \n",
    "    CASE 4: manual file picking with a custom colourmap\n",
    "    \"\"\"\n",
    "    out = gt.giganttic(cmap=['#F6D44D','#006F45','#0082CA','#C9252C','#002F56','#58585B'],\n",
    "                       fillcolumn='id',\n",
    "                       #fontsize = 10,\n",
    "                      )\n",
    "    return out \n",
    "out4 = case_4()"
   ]
  },
  {
   "cell_type": "markdown",
   "id": "b7291b68-98b3-4afc-a9ff-c9589682fc23",
   "metadata": {},
   "source": [
    "## CASE 5\n",
    "CASE 5: cycling colour map from list"
   ]
  },
  {
   "cell_type": "code",
   "execution_count": null,
   "id": "53ccbf37-5d5c-458f-b2b7-b5d21ab6af8a",
   "metadata": {},
   "outputs": [],
   "source": [
    "def case_5():\n",
    "    \"\"\" \n",
    "    CASE 5: cycling colour map from list\n",
    "    \"\"\"\n",
    "    dummydata = [\n",
    "            [\"id\",\"name\",\"start\",\"end\",\"level\"],\n",
    "            [1,\"task\",\"31-Jan-2023\",\"12/12/2028\",1],\n",
    "            [1,\"task\",\"31-Jan-2023\",\"12/12/2028\",1],\n",
    "            [1,\"task\",\"31-Jan-2023\",\"12/12/2028\",1],\n",
    "            [1,\"task\",\"31-Jan-2023\",\"12/12/2028\",1],\n",
    "            [1,\"task\",\"31-Jan-2023\",\"12/12/2028\",1],\n",
    "            [1,\"task\",\"31-Jan-2023\",\"12/12/2028\",1],\n",
    "            [1,\"task\",\"31-Jan-2023\",\"12/12/2028\",1],\n",
    "            [1,\"task\",\"31-Jan-2023\",\"12/12/2028\",1],\n",
    "            [1,\"task\",\"31-Jan-2023\",\"12/12/2028\",1],\n",
    "            [1,\"task\",\"31-Jan-2023\",\"12/12/2028\",1],\n",
    "            [1,\"task\",\"31-Jan-2023\",\"12/12/2028\",1],\n",
    "            ]\n",
    "    df = gt.import_list(dummydata)\n",
    "    df.id = range(len(df))\n",
    "    df.loc[:,'name'] = df.id.map(str)+' - '+df.name\n",
    "    ax, fig = gt.gantt_chart(df,\n",
    "                             fillcolumn='id',\n",
    "                             cmap=['#F6D44D', \n",
    "                                   '#006F45', \n",
    "                                   '#0082CA', \n",
    "                                   '#C9252C', \n",
    "                                   '#002F56', \n",
    "                                   '#58585B'])\n",
    "    \n",
    "    return df, ax, fig\n",
    "\n",
    "out5 = case_5()"
   ]
  }
 ],
 "metadata": {
  "kernelspec": {
   "display_name": "Python 3 (ipykernel)",
   "language": "python",
   "name": "python3"
  },
  "language_info": {
   "codemirror_mode": {
    "name": "ipython",
    "version": 3
   },
   "file_extension": ".py",
   "mimetype": "text/x-python",
   "name": "python",
   "nbconvert_exporter": "python",
   "pygments_lexer": "ipython3",
   "version": "3.11.4"
  }
 },
 "nbformat": 4,
 "nbformat_minor": 5
}
